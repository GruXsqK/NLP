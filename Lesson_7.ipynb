{
  "nbformat": 4,
  "nbformat_minor": 0,
  "metadata": {
    "colab": {
      "name": "Lesson_7.ipynb",
      "provenance": [],
      "collapsed_sections": []
    },
    "kernelspec": {
      "name": "python3",
      "display_name": "Python 3"
    },
    "accelerator": "GPU"
  },
  "cells": [
    {
      "cell_type": "markdown",
      "metadata": {
        "id": "Hg2E7dNttXVY"
      },
      "source": [
        "__Поэкспериментировать с моделью генерации текста, попробовать модель на словах, посмотреть что отработает лучше__"
      ]
    },
    {
      "cell_type": "code",
      "metadata": {
        "id": "dzDuFx2Zaq0D"
      },
      "source": [
        "import tensorflow as tf\r\n",
        "import numpy as np\r\n",
        "import os\r\n",
        "import time\r\n",
        "import unicodedata\r\n",
        "import re\r\n",
        "import io\r\n",
        "\r\n",
        "import matplotlib.pyplot as plt\r\n",
        "import matplotlib.ticker as ticker\r\n",
        "from sklearn.model_selection import train_test_split"
      ],
      "execution_count": 1,
      "outputs": []
    },
    {
      "cell_type": "code",
      "metadata": {
        "colab": {
          "base_uri": "https://localhost:8080/"
        },
        "id": "LBNH0oJma7Ce",
        "outputId": "80a90295-6b09-44bf-a5b4-0b55931fe0a4"
      },
      "source": [
        "from google.colab import drive\r\n",
        "drive.mount('/content/drive');"
      ],
      "execution_count": 2,
      "outputs": [
        {
          "output_type": "stream",
          "text": [
            "Mounted at /content/drive\n"
          ],
          "name": "stdout"
        }
      ]
    },
    {
      "cell_type": "code",
      "metadata": {
        "id": "dQde89Z4dszF"
      },
      "source": [
        "path_to_file = '/content/drive/MyDrive/Colab Notebooks/GeekBrains/NLP/Lesson_7/comedy.txt'"
      ],
      "execution_count": 3,
      "outputs": []
    },
    {
      "cell_type": "code",
      "metadata": {
        "colab": {
          "base_uri": "https://localhost:8080/"
        },
        "id": "WSDHXizTd33j",
        "outputId": "42ab47e2-3327-4ac4-9799-0dc2430cc2fb"
      },
      "source": [
        "text = open(path_to_file, 'rb').read().decode(encoding='1251')\r\n",
        "# length of text is the number of characters in it\r\n",
        "tokens = text.split(' ')\r\n",
        "print(f'Length of text: {len(text)} characters, {len(tokens)} words')"
      ],
      "execution_count": 4,
      "outputs": [
        {
          "output_type": "stream",
          "text": [
            "Length of text: 808629 characters, 357138 words\n"
          ],
          "name": "stdout"
        }
      ]
    },
    {
      "cell_type": "code",
      "metadata": {
        "colab": {
          "base_uri": "https://localhost:8080/"
        },
        "id": "E42SqKn1d9b7",
        "outputId": "19cefc90-29b0-4151-c9ca-032d7a0b57a1"
      },
      "source": [
        "print(text[:500])"
      ],
      "execution_count": 5,
      "outputs": [
        {
          "output_type": "stream",
          "text": [
            " * АД * \r\n",
            "\r\n",
            "\r\n",
            "ПЕСНЬ ПЕРВАЯ\r\n",
            "\r\n",
            "\r\n",
            "                    1 Земную жизнь пройдя до половины,\r\n",
            "                      Я очутился в сумрачном лесу,\r\n",
            "                      Утратив правый путь во тьме долины.\r\n",
            "\r\n",
            "                    4 Каков он был, о, как произнесу,\r\n",
            "                      Тот дикий лес, дремучий и грозящий,\r\n",
            "                      Чей давний ужас в памяти несу!\r\n",
            "\r\n",
            "                    7 Так горек он, что смерть едва ль не слаще.\r\n",
            "                      Но, благо в нем обретши навсегда,\r\n",
            "      \n"
          ],
          "name": "stdout"
        }
      ]
    },
    {
      "cell_type": "code",
      "metadata": {
        "colab": {
          "base_uri": "https://localhost:8080/"
        },
        "id": "R3joGzukeA_m",
        "outputId": "f808d4e4-a284-4688-d2ad-b45a3bea951c"
      },
      "source": [
        "# The unique characters in the file\r\n",
        "vocab = sorted(set(tokens))\r\n",
        "print('{} unique words'.format(len(vocab)))"
      ],
      "execution_count": 6,
      "outputs": [
        {
          "output_type": "stream",
          "text": [
            "31120 unique words\n"
          ],
          "name": "stdout"
        }
      ]
    },
    {
      "cell_type": "code",
      "metadata": {
        "id": "_RXrm7_bgTBF"
      },
      "source": [
        "word2idx = {u:i for i, u in enumerate(vocab)}\r\n",
        "idx2word = np.array(vocab)\r\n",
        "\r\n",
        "text_as_int = np.array([word2idx[c] for c in tokens])"
      ],
      "execution_count": 7,
      "outputs": []
    },
    {
      "cell_type": "code",
      "metadata": {
        "colab": {
          "base_uri": "https://localhost:8080/"
        },
        "id": "bcO3_L_YgoPS",
        "outputId": "07cf3abc-1e26-4098-bd79-5bfa163a21a3"
      },
      "source": [
        "# The maximum length sentence you want for a single input in characters\r\n",
        "seq_length = 200\r\n",
        "examples_per_epoch = len(text)//(seq_length+1)\r\n",
        "\r\n",
        "# Create training examples / targets\r\n",
        "words_dataset = tf.data.Dataset.from_tensor_slices(text_as_int)\r\n",
        "\r\n",
        "for i in words_dataset.take(10):\r\n",
        "    print(idx2word[i.numpy()])"
      ],
      "execution_count": 8,
      "outputs": [
        {
          "output_type": "stream",
          "text": [
            "\n",
            "*\n",
            "АД\n",
            "*\n",
            "\r\n",
            "\r\n",
            "\r\n",
            "ПЕСНЬ\n",
            "ПЕРВАЯ\r\n",
            "\r\n",
            "\r\n",
            "\n",
            "\n",
            "\n",
            "\n",
            "\n"
          ],
          "name": "stdout"
        }
      ]
    },
    {
      "cell_type": "code",
      "metadata": {
        "colab": {
          "base_uri": "https://localhost:8080/"
        },
        "id": "6SE8-tcvhrLp",
        "outputId": "0399b685-9fc4-4e5e-dbf2-d2828d2a6560"
      },
      "source": [
        "sequences = words_dataset.batch(seq_length+1, drop_remainder=True)\r\n",
        "\r\n",
        "for item in sequences.take(5):\r\n",
        "    print(repr(' '.join(idx2word[item.numpy()])))"
      ],
      "execution_count": 9,
      "outputs": [
        {
          "output_type": "stream",
          "text": [
            "' * АД * \\r\\n\\r\\n\\r\\nПЕСНЬ ПЕРВАЯ\\r\\n\\r\\n\\r\\n                    1 Земную жизнь пройдя до половины,\\r\\n                      Я очутился в сумрачном лесу,\\r\\n                      Утратив правый путь во тьме долины.\\r\\n\\r\\n                    4 Каков он был, о, как произнесу,\\r\\n                      Тот дикий лес, дремучий и грозящий,\\r\\n                      Чей давний ужас в памяти несу!\\r\\n\\r\\n                    7 Так горек он, что смерть едва ль не слаще.\\r\\n        '\n",
            "'             Но, благо в нем обретши навсегда,\\r\\n                      Скажу про все, что видел в этой чаще.\\r\\n\\r\\n                   10 Не помню сам, как я вошел туда,\\r\\n                      Настолько сон меня опутал ложью,\\r\\n                      Когда я сбился с верного следа.\\r\\n\\r\\n                   13 Но к холмному приблизившись подножью,\\r\\n                      Которым замыкался этот дол,\\r\\n                      Мне сжавший сердце ужасом'\n",
            "'и дрожью,\\r\\n\\r\\n                   16 Я увидал, едва глаза возвел,\\r\\n                      Что свет планеты, всюду путеводной,\\r\\n                      Уже на плечи горные сошел.\\r\\n\\r\\n                   19 Тогда вздохнула более свободной\\r\\n                      И долгий страх превозмогла душа,\\r\\n                      Измученная ночью безысходной.\\r\\n\\r\\n                   22 И словно тот, кто, тяжело дыша,\\r\\n                      На берег выйдя из'\n",
            "'пучины пенной,\\r\\n                      Глядит назад, где волны бьют, страша,\\r\\n\\r\\n                   25 Так и мой дух, бегущий и смятенный,\\r\\n                      Вспять обернулся, озирая путь,\\r\\n                      Всех уводящий к смерти предреченной.\\r\\n\\r\\n                   28 Когда я телу дал передохнуть,\\r\\n                      Я вверх пошел, и мне была опора\\r\\n                      В стопе, давившей на земную грудь.\\r\\n\\r\\n                '\n",
            "'  31 И вот, внизу крутого косогора,\\r\\n                      Проворная  и вьющаяся  рысь,\\r\\n                      Вся в ярких пятнах пестрого узора.\\r\\n\\r\\n                   34 Она, кружа, мне преграждала высь,\\r\\n                      И  я не раз на крутизне опасной\\r\\n                      Возвратным следом помышлял спастись.\\r\\n\\r\\n                   37 Был ранний час, и солнце в тверди ясной\\r\\n                      Сопровождали те же звезды вновь,\\r\\n        '\n"
          ],
          "name": "stdout"
        }
      ]
    },
    {
      "cell_type": "code",
      "metadata": {
        "id": "1dx1i0DkinJM"
      },
      "source": [
        "def split_input_target(chunk):\r\n",
        "    input_text = chunk[:-1]\r\n",
        "    target_text = chunk[1:]\r\n",
        "    return input_text, target_text\r\n",
        "\r\n",
        "dataset = sequences.map(split_input_target)"
      ],
      "execution_count": 10,
      "outputs": []
    },
    {
      "cell_type": "code",
      "metadata": {
        "colab": {
          "base_uri": "https://localhost:8080/"
        },
        "id": "grRETyofiEH2",
        "outputId": "c7f5aac4-e212-4c76-c456-4de2e387c6aa"
      },
      "source": [
        "for input_example, target_example in  dataset.take(1):\r\n",
        "    print('Input data: ', repr(' '.join(idx2word[input_example.numpy()])))\r\n",
        "    print('Target data:', repr(' '.join(idx2word[target_example.numpy()])))"
      ],
      "execution_count": 11,
      "outputs": [
        {
          "output_type": "stream",
          "text": [
            "Input data:  ' * АД * \\r\\n\\r\\n\\r\\nПЕСНЬ ПЕРВАЯ\\r\\n\\r\\n\\r\\n                    1 Земную жизнь пройдя до половины,\\r\\n                      Я очутился в сумрачном лесу,\\r\\n                      Утратив правый путь во тьме долины.\\r\\n\\r\\n                    4 Каков он был, о, как произнесу,\\r\\n                      Тот дикий лес, дремучий и грозящий,\\r\\n                      Чей давний ужас в памяти несу!\\r\\n\\r\\n                    7 Так горек он, что смерть едва ль не слаще.\\r\\n       '\n",
            "Target data: '* АД * \\r\\n\\r\\n\\r\\nПЕСНЬ ПЕРВАЯ\\r\\n\\r\\n\\r\\n                    1 Земную жизнь пройдя до половины,\\r\\n                      Я очутился в сумрачном лесу,\\r\\n                      Утратив правый путь во тьме долины.\\r\\n\\r\\n                    4 Каков он был, о, как произнесу,\\r\\n                      Тот дикий лес, дремучий и грозящий,\\r\\n                      Чей давний ужас в памяти несу!\\r\\n\\r\\n                    7 Так горек он, что смерть едва ль не слаще.\\r\\n        '\n"
          ],
          "name": "stdout"
        }
      ]
    },
    {
      "cell_type": "code",
      "metadata": {
        "colab": {
          "base_uri": "https://localhost:8080/"
        },
        "id": "Yy_NHdsGjEIj",
        "outputId": "ffbb79cd-5e66-4fbc-f908-bffb2ad4e720"
      },
      "source": [
        "# Batch size\r\n",
        "BATCH_SIZE = 64\r\n",
        "\r\n",
        "BUFFER_SIZE = 10000\r\n",
        "\r\n",
        "dataset = dataset.shuffle(BUFFER_SIZE).batch(BATCH_SIZE, drop_remainder=True)\r\n",
        "\r\n",
        "dataset"
      ],
      "execution_count": 12,
      "outputs": [
        {
          "output_type": "execute_result",
          "data": {
            "text/plain": [
              "<BatchDataset shapes: ((64, 200), (64, 200)), types: (tf.int64, tf.int64)>"
            ]
          },
          "metadata": {
            "tags": []
          },
          "execution_count": 12
        }
      ]
    },
    {
      "cell_type": "code",
      "metadata": {
        "id": "HzIvqxUqjQEf"
      },
      "source": [
        "# Length of the vocabulary in chars\r\n",
        "vocab_size = len(vocab)\r\n",
        "\r\n",
        "# The embedding dimension\r\n",
        "embedding_dim = 512\r\n",
        "\r\n",
        "# Number of RNN units\r\n",
        "rnn_units = 512"
      ],
      "execution_count": 13,
      "outputs": []
    },
    {
      "cell_type": "code",
      "metadata": {
        "id": "NWSckrbpjW8q"
      },
      "source": [
        "def build_model(vocab_size, embedding_dim, rnn_units, batch_size):\r\n",
        "    model = tf.keras.Sequential([\r\n",
        "        tf.keras.layers.Embedding(vocab_size, embedding_dim,\r\n",
        "                                  batch_input_shape=[batch_size, None]),\r\n",
        "                                 \r\n",
        "        tf.keras.layers.GRU(rnn_units,\r\n",
        "                            return_sequences=True,\r\n",
        "                            stateful=True,\r\n",
        "                            recurrent_initializer='glorot_uniform'),\r\n",
        "\r\n",
        "        tf.keras.layers.GRU(rnn_units,\r\n",
        "                            return_sequences=True,\r\n",
        "                            stateful=True,\r\n",
        "                            recurrent_initializer='glorot_uniform'),\r\n",
        "\r\n",
        "         tf.keras.layers.GRU(rnn_units,\r\n",
        "                            return_sequences=True,\r\n",
        "                            stateful=True,\r\n",
        "                            recurrent_initializer='glorot_uniform'),\r\n",
        "                                   \r\n",
        "        tf.keras.layers.Dense(vocab_size)\r\n",
        "    ])\r\n",
        "    return model"
      ],
      "execution_count": 14,
      "outputs": []
    },
    {
      "cell_type": "code",
      "metadata": {
        "id": "xv9jRLdHjaoe"
      },
      "source": [
        "model = build_model(\r\n",
        "    vocab_size=len(vocab),\r\n",
        "    embedding_dim=embedding_dim,\r\n",
        "    rnn_units=rnn_units,\r\n",
        "    batch_size=BATCH_SIZE)"
      ],
      "execution_count": 15,
      "outputs": []
    },
    {
      "cell_type": "code",
      "metadata": {
        "colab": {
          "base_uri": "https://localhost:8080/"
        },
        "id": "_CBCNDz1jarI",
        "outputId": "3037cae0-0738-471f-90ab-9bf8298dba94"
      },
      "source": [
        "for input_example_batch, target_example_batch in dataset.take(1):\r\n",
        "    example_batch_predictions = model(input_example_batch)\r\n",
        "    print(example_batch_predictions.shape, \"# (batch_size, sequence_length, vocab_size)\")"
      ],
      "execution_count": 16,
      "outputs": [
        {
          "output_type": "stream",
          "text": [
            "(64, 200, 31120) # (batch_size, sequence_length, vocab_size)\n"
          ],
          "name": "stdout"
        }
      ]
    },
    {
      "cell_type": "code",
      "metadata": {
        "colab": {
          "base_uri": "https://localhost:8080/"
        },
        "id": "gTGIbSR5jat0",
        "outputId": "a2c039ba-c8f8-4e85-ad0f-763256fe726a"
      },
      "source": [
        "model.summary()"
      ],
      "execution_count": 17,
      "outputs": [
        {
          "output_type": "stream",
          "text": [
            "Model: \"sequential\"\n",
            "_________________________________________________________________\n",
            "Layer (type)                 Output Shape              Param #   \n",
            "=================================================================\n",
            "embedding (Embedding)        (64, None, 512)           15933440  \n",
            "_________________________________________________________________\n",
            "gru (GRU)                    (64, None, 512)           1575936   \n",
            "_________________________________________________________________\n",
            "gru_1 (GRU)                  (64, None, 512)           1575936   \n",
            "_________________________________________________________________\n",
            "gru_2 (GRU)                  (64, None, 512)           1575936   \n",
            "_________________________________________________________________\n",
            "dense (Dense)                (64, None, 31120)         15964560  \n",
            "=================================================================\n",
            "Total params: 36,625,808\n",
            "Trainable params: 36,625,808\n",
            "Non-trainable params: 0\n",
            "_________________________________________________________________\n"
          ],
          "name": "stdout"
        }
      ]
    },
    {
      "cell_type": "code",
      "metadata": {
        "id": "Zpm7h4ThjawO"
      },
      "source": [
        "def loss(labels, logits):\r\n",
        "    return tf.keras.losses.sparse_categorical_crossentropy(labels, logits, from_logits=True)"
      ],
      "execution_count": 18,
      "outputs": []
    },
    {
      "cell_type": "code",
      "metadata": {
        "id": "pycByhBSjays"
      },
      "source": [
        "model.compile(optimizer='adam', loss=loss)"
      ],
      "execution_count": 19,
      "outputs": []
    },
    {
      "cell_type": "code",
      "metadata": {
        "id": "UQbYo1grlKpb"
      },
      "source": [
        "# Directory where the checkpoints will be saved\r\n",
        "checkpoint_dir = './training_checkpoints'\r\n",
        "# Name of the checkpoint files\r\n",
        "checkpoint_prefix = os.path.join(checkpoint_dir, \"ckpt_{epoch}\")\r\n",
        "\r\n",
        "checkpoint_callback = tf.keras.callbacks.ModelCheckpoint(\r\n",
        "    filepath=checkpoint_prefix,\r\n",
        "    save_freq=800,\r\n",
        "    save_weights_only=True)"
      ],
      "execution_count": 20,
      "outputs": []
    },
    {
      "cell_type": "code",
      "metadata": {
        "id": "jF2RHPHclKsR"
      },
      "source": [
        "EPOCHS = 300"
      ],
      "execution_count": 21,
      "outputs": []
    },
    {
      "cell_type": "code",
      "metadata": {
        "colab": {
          "base_uri": "https://localhost:8080/"
        },
        "id": "7HSlzZ5BlKuw",
        "outputId": "acdf97fa-bde0-4fe9-f937-e6ef40844195"
      },
      "source": [
        "history = model.fit(dataset, epochs=EPOCHS, callbacks=[checkpoint_callback])"
      ],
      "execution_count": 22,
      "outputs": [
        {
          "output_type": "stream",
          "text": [
            "Epoch 1/300\n",
            "27/27 [==============================] - 21s 668ms/step - loss: 6.6791\n",
            "Epoch 2/300\n",
            "27/27 [==============================] - 18s 653ms/step - loss: 2.8911\n",
            "Epoch 3/300\n",
            "27/27 [==============================] - 18s 660ms/step - loss: 2.7086\n",
            "Epoch 4/300\n",
            "27/27 [==============================] - 18s 666ms/step - loss: 2.6894\n",
            "Epoch 5/300\n",
            "27/27 [==============================] - 19s 685ms/step - loss: 2.6985\n",
            "Epoch 6/300\n",
            "27/27 [==============================] - 19s 695ms/step - loss: 2.7012\n",
            "Epoch 7/300\n",
            "27/27 [==============================] - 19s 706ms/step - loss: 2.6922\n",
            "Epoch 8/300\n",
            "27/27 [==============================] - 20s 717ms/step - loss: 2.6977\n",
            "Epoch 9/300\n",
            "27/27 [==============================] - 19s 702ms/step - loss: 2.6935\n",
            "Epoch 10/300\n",
            "27/27 [==============================] - 19s 700ms/step - loss: 2.6924\n",
            "Epoch 11/300\n",
            "27/27 [==============================] - 19s 702ms/step - loss: 2.6922\n",
            "Epoch 12/300\n",
            "27/27 [==============================] - 19s 707ms/step - loss: 2.6989\n",
            "Epoch 13/300\n",
            "27/27 [==============================] - 19s 705ms/step - loss: 2.6955\n",
            "Epoch 14/300\n",
            "27/27 [==============================] - 19s 703ms/step - loss: 2.6980\n",
            "Epoch 15/300\n",
            "27/27 [==============================] - 19s 702ms/step - loss: 2.7041\n",
            "Epoch 16/300\n",
            "27/27 [==============================] - 19s 703ms/step - loss: 2.6935\n",
            "Epoch 17/300\n",
            "27/27 [==============================] - 19s 708ms/step - loss: 2.6926\n",
            "Epoch 18/300\n",
            "27/27 [==============================] - 19s 704ms/step - loss: 2.6996\n",
            "Epoch 19/300\n",
            "27/27 [==============================] - 19s 707ms/step - loss: 2.6954\n",
            "Epoch 20/300\n",
            "27/27 [==============================] - 19s 707ms/step - loss: 2.6962\n",
            "Epoch 21/300\n",
            "27/27 [==============================] - 19s 705ms/step - loss: 2.6958\n",
            "Epoch 22/300\n",
            "27/27 [==============================] - 19s 707ms/step - loss: 2.6907\n",
            "Epoch 23/300\n",
            "27/27 [==============================] - 19s 706ms/step - loss: 2.6983\n",
            "Epoch 24/300\n",
            "27/27 [==============================] - 19s 707ms/step - loss: 2.7021\n",
            "Epoch 25/300\n",
            "27/27 [==============================] - 19s 707ms/step - loss: 2.6973\n",
            "Epoch 26/300\n",
            "27/27 [==============================] - 19s 706ms/step - loss: 2.6988\n",
            "Epoch 27/300\n",
            "27/27 [==============================] - 19s 703ms/step - loss: 2.6996\n",
            "Epoch 28/300\n",
            "27/27 [==============================] - 19s 705ms/step - loss: 2.6932\n",
            "Epoch 29/300\n",
            "27/27 [==============================] - 19s 703ms/step - loss: 2.7038\n",
            "Epoch 30/300\n",
            "27/27 [==============================] - 21s 756ms/step - loss: 2.7015\n",
            "Epoch 31/300\n",
            "27/27 [==============================] - 19s 703ms/step - loss: 2.7027\n",
            "Epoch 32/300\n",
            "27/27 [==============================] - 19s 704ms/step - loss: 2.7011\n",
            "Epoch 33/300\n",
            "27/27 [==============================] - 19s 702ms/step - loss: 2.6990\n",
            "Epoch 34/300\n",
            "27/27 [==============================] - 19s 708ms/step - loss: 2.7041\n",
            "Epoch 35/300\n",
            "27/27 [==============================] - 19s 704ms/step - loss: 2.7029\n",
            "Epoch 36/300\n",
            "27/27 [==============================] - 19s 709ms/step - loss: 2.6961\n",
            "Epoch 37/300\n",
            "27/27 [==============================] - 19s 703ms/step - loss: 2.6981\n",
            "Epoch 38/300\n",
            "27/27 [==============================] - 19s 704ms/step - loss: 2.6981\n",
            "Epoch 39/300\n",
            "27/27 [==============================] - 19s 705ms/step - loss: 2.7018\n",
            "Epoch 40/300\n",
            "27/27 [==============================] - 19s 704ms/step - loss: 2.6937\n",
            "Epoch 41/300\n",
            "27/27 [==============================] - 19s 706ms/step - loss: 2.7004\n",
            "Epoch 42/300\n",
            "27/27 [==============================] - 19s 701ms/step - loss: 2.6998\n",
            "Epoch 43/300\n",
            "27/27 [==============================] - 19s 703ms/step - loss: 2.7014\n",
            "Epoch 44/300\n",
            "27/27 [==============================] - 19s 706ms/step - loss: 2.6968\n",
            "Epoch 45/300\n",
            "27/27 [==============================] - 19s 705ms/step - loss: 2.6944\n",
            "Epoch 46/300\n",
            "27/27 [==============================] - 19s 701ms/step - loss: 2.7023\n",
            "Epoch 47/300\n",
            "27/27 [==============================] - 19s 702ms/step - loss: 2.6951\n",
            "Epoch 48/300\n",
            "27/27 [==============================] - 19s 705ms/step - loss: 2.6930\n",
            "Epoch 49/300\n",
            "27/27 [==============================] - 19s 706ms/step - loss: 2.6977\n",
            "Epoch 50/300\n",
            "27/27 [==============================] - 19s 699ms/step - loss: 2.6953\n",
            "Epoch 51/300\n",
            "27/27 [==============================] - 19s 705ms/step - loss: 2.6983\n",
            "Epoch 52/300\n",
            "27/27 [==============================] - 19s 701ms/step - loss: 2.7051\n",
            "Epoch 53/300\n",
            "27/27 [==============================] - 19s 701ms/step - loss: 2.6949\n",
            "Epoch 54/300\n",
            "27/27 [==============================] - 19s 699ms/step - loss: 2.6987\n",
            "Epoch 55/300\n",
            "27/27 [==============================] - 19s 701ms/step - loss: 2.6907\n",
            "Epoch 56/300\n",
            "27/27 [==============================] - 19s 704ms/step - loss: 2.6948\n",
            "Epoch 57/300\n",
            "27/27 [==============================] - 19s 702ms/step - loss: 2.6979\n",
            "Epoch 58/300\n",
            "27/27 [==============================] - 19s 702ms/step - loss: 2.7012\n",
            "Epoch 59/300\n",
            "27/27 [==============================] - 19s 704ms/step - loss: 2.7013\n",
            "Epoch 60/300\n",
            "27/27 [==============================] - 21s 751ms/step - loss: 2.6908\n",
            "Epoch 61/300\n",
            "27/27 [==============================] - 19s 702ms/step - loss: 2.6981\n",
            "Epoch 62/300\n",
            "27/27 [==============================] - 19s 701ms/step - loss: 2.6995\n",
            "Epoch 63/300\n",
            "27/27 [==============================] - 19s 701ms/step - loss: 2.6947\n",
            "Epoch 64/300\n",
            "27/27 [==============================] - 19s 700ms/step - loss: 2.7015\n",
            "Epoch 65/300\n",
            "27/27 [==============================] - 19s 706ms/step - loss: 2.7016\n",
            "Epoch 66/300\n",
            "27/27 [==============================] - 19s 701ms/step - loss: 2.7066\n",
            "Epoch 67/300\n",
            "27/27 [==============================] - 19s 702ms/step - loss: 2.6934\n",
            "Epoch 68/300\n",
            "27/27 [==============================] - 19s 701ms/step - loss: 2.7084\n",
            "Epoch 69/300\n",
            "27/27 [==============================] - 19s 700ms/step - loss: 2.7036\n",
            "Epoch 70/300\n",
            "27/27 [==============================] - 19s 700ms/step - loss: 2.6972\n",
            "Epoch 71/300\n",
            "27/27 [==============================] - 19s 701ms/step - loss: 2.6969\n",
            "Epoch 72/300\n",
            "27/27 [==============================] - 19s 702ms/step - loss: 2.6991\n",
            "Epoch 73/300\n",
            "27/27 [==============================] - 19s 704ms/step - loss: 2.6934\n",
            "Epoch 74/300\n",
            "27/27 [==============================] - 19s 704ms/step - loss: 2.6959\n",
            "Epoch 75/300\n",
            "27/27 [==============================] - 19s 701ms/step - loss: 2.7003\n",
            "Epoch 76/300\n",
            "27/27 [==============================] - 19s 696ms/step - loss: 2.7005\n",
            "Epoch 77/300\n",
            "27/27 [==============================] - 19s 701ms/step - loss: 2.7009\n",
            "Epoch 78/300\n",
            "27/27 [==============================] - 19s 700ms/step - loss: 2.6967\n",
            "Epoch 79/300\n",
            "27/27 [==============================] - 19s 701ms/step - loss: 2.7011\n",
            "Epoch 80/300\n",
            "27/27 [==============================] - 19s 703ms/step - loss: 2.7025\n",
            "Epoch 81/300\n",
            "27/27 [==============================] - 19s 701ms/step - loss: 2.6915\n",
            "Epoch 82/300\n",
            "27/27 [==============================] - 19s 698ms/step - loss: 2.6879\n",
            "Epoch 83/300\n",
            "27/27 [==============================] - 19s 703ms/step - loss: 2.7063\n",
            "Epoch 84/300\n",
            "27/27 [==============================] - 19s 701ms/step - loss: 2.7044\n",
            "Epoch 85/300\n",
            "27/27 [==============================] - 19s 701ms/step - loss: 2.7021\n",
            "Epoch 86/300\n",
            "27/27 [==============================] - 19s 701ms/step - loss: 2.6968\n",
            "Epoch 87/300\n",
            "27/27 [==============================] - 19s 700ms/step - loss: 2.7015\n",
            "Epoch 88/300\n",
            "27/27 [==============================] - 19s 704ms/step - loss: 2.7021\n",
            "Epoch 89/300\n",
            "27/27 [==============================] - 20s 748ms/step - loss: 2.6933\n",
            "Epoch 90/300\n",
            "27/27 [==============================] - 19s 703ms/step - loss: 2.7011\n",
            "Epoch 91/300\n",
            "27/27 [==============================] - 19s 704ms/step - loss: 2.6992\n",
            "Epoch 92/300\n",
            "27/27 [==============================] - 19s 701ms/step - loss: 2.6954\n",
            "Epoch 93/300\n",
            "27/27 [==============================] - 19s 702ms/step - loss: 2.7015\n",
            "Epoch 94/300\n",
            "27/27 [==============================] - 19s 701ms/step - loss: 2.7070\n",
            "Epoch 95/300\n",
            "27/27 [==============================] - 19s 699ms/step - loss: 2.7022\n",
            "Epoch 96/300\n",
            "27/27 [==============================] - 19s 701ms/step - loss: 2.6968\n",
            "Epoch 97/300\n",
            "27/27 [==============================] - 19s 701ms/step - loss: 2.7011\n",
            "Epoch 98/300\n",
            "27/27 [==============================] - 19s 702ms/step - loss: 2.6924\n",
            "Epoch 99/300\n",
            "27/27 [==============================] - 19s 701ms/step - loss: 2.6983\n",
            "Epoch 100/300\n",
            "27/27 [==============================] - 19s 704ms/step - loss: 2.6981\n",
            "Epoch 101/300\n",
            "27/27 [==============================] - 19s 702ms/step - loss: 2.7094\n",
            "Epoch 102/300\n",
            "27/27 [==============================] - 19s 698ms/step - loss: 2.7085\n",
            "Epoch 103/300\n",
            "27/27 [==============================] - 19s 701ms/step - loss: 2.6994\n",
            "Epoch 104/300\n",
            "27/27 [==============================] - 19s 700ms/step - loss: 2.7002\n",
            "Epoch 105/300\n",
            "27/27 [==============================] - 19s 701ms/step - loss: 2.7031\n",
            "Epoch 106/300\n",
            "27/27 [==============================] - 19s 703ms/step - loss: 2.7125\n",
            "Epoch 107/300\n",
            "27/27 [==============================] - 19s 701ms/step - loss: 2.6945\n",
            "Epoch 108/300\n",
            "27/27 [==============================] - 19s 700ms/step - loss: 2.7018\n",
            "Epoch 109/300\n",
            "27/27 [==============================] - 19s 702ms/step - loss: 2.6997\n",
            "Epoch 110/300\n",
            "27/27 [==============================] - 19s 704ms/step - loss: 2.6965\n",
            "Epoch 111/300\n",
            "27/27 [==============================] - 19s 705ms/step - loss: 2.6982\n",
            "Epoch 112/300\n",
            "27/27 [==============================] - 19s 704ms/step - loss: 2.7081\n",
            "Epoch 113/300\n",
            "27/27 [==============================] - 19s 701ms/step - loss: 2.7010\n",
            "Epoch 114/300\n",
            "27/27 [==============================] - 19s 704ms/step - loss: 2.7009\n",
            "Epoch 115/300\n",
            "27/27 [==============================] - 19s 703ms/step - loss: 2.7024\n",
            "Epoch 116/300\n",
            "27/27 [==============================] - 19s 705ms/step - loss: 2.6976\n",
            "Epoch 117/300\n",
            "27/27 [==============================] - 19s 703ms/step - loss: 2.7059\n",
            "Epoch 118/300\n",
            "27/27 [==============================] - 19s 702ms/step - loss: 2.7045\n",
            "Epoch 119/300\n",
            "27/27 [==============================] - 20s 746ms/step - loss: 2.6998\n",
            "Epoch 120/300\n",
            "27/27 [==============================] - 19s 704ms/step - loss: 2.6935\n",
            "Epoch 121/300\n",
            "27/27 [==============================] - 19s 704ms/step - loss: 2.6992\n",
            "Epoch 122/300\n",
            "27/27 [==============================] - 19s 704ms/step - loss: 2.7066\n",
            "Epoch 123/300\n",
            "27/27 [==============================] - 19s 702ms/step - loss: 2.6957\n",
            "Epoch 124/300\n",
            "27/27 [==============================] - 19s 702ms/step - loss: 2.7007\n",
            "Epoch 125/300\n",
            "27/27 [==============================] - 19s 703ms/step - loss: 2.6951\n",
            "Epoch 126/300\n",
            "27/27 [==============================] - 19s 704ms/step - loss: 2.7025\n",
            "Epoch 127/300\n",
            "27/27 [==============================] - 19s 701ms/step - loss: 2.6961\n",
            "Epoch 128/300\n",
            "27/27 [==============================] - 19s 704ms/step - loss: 2.6991\n",
            "Epoch 129/300\n",
            "27/27 [==============================] - 19s 705ms/step - loss: 2.6953\n",
            "Epoch 130/300\n",
            "27/27 [==============================] - 19s 701ms/step - loss: 2.7015\n",
            "Epoch 131/300\n",
            "27/27 [==============================] - 19s 699ms/step - loss: 2.7000\n",
            "Epoch 132/300\n",
            "27/27 [==============================] - 19s 702ms/step - loss: 2.6953\n",
            "Epoch 133/300\n",
            "27/27 [==============================] - 19s 704ms/step - loss: 2.7003\n",
            "Epoch 134/300\n",
            "27/27 [==============================] - 19s 705ms/step - loss: 2.6989\n",
            "Epoch 135/300\n",
            "27/27 [==============================] - 19s 701ms/step - loss: 2.6993\n",
            "Epoch 136/300\n",
            "27/27 [==============================] - 19s 704ms/step - loss: 2.6951\n",
            "Epoch 137/300\n",
            "27/27 [==============================] - 19s 702ms/step - loss: 2.7020\n",
            "Epoch 138/300\n",
            "27/27 [==============================] - 19s 699ms/step - loss: 2.6983\n",
            "Epoch 139/300\n",
            "27/27 [==============================] - 19s 702ms/step - loss: 2.7002\n",
            "Epoch 140/300\n",
            "27/27 [==============================] - 19s 702ms/step - loss: 2.7006\n",
            "Epoch 141/300\n",
            "27/27 [==============================] - 19s 705ms/step - loss: 2.7003\n",
            "Epoch 142/300\n",
            "27/27 [==============================] - 19s 703ms/step - loss: 2.6969\n",
            "Epoch 143/300\n",
            "27/27 [==============================] - 19s 704ms/step - loss: 2.7113\n",
            "Epoch 144/300\n",
            "27/27 [==============================] - 19s 699ms/step - loss: 2.6987\n",
            "Epoch 145/300\n",
            "27/27 [==============================] - 19s 700ms/step - loss: 2.6992\n",
            "Epoch 146/300\n",
            "27/27 [==============================] - 19s 703ms/step - loss: 2.7033\n",
            "Epoch 147/300\n",
            "27/27 [==============================] - 19s 706ms/step - loss: 2.6968\n",
            "Epoch 148/300\n",
            "27/27 [==============================] - 19s 703ms/step - loss: 2.6976\n",
            "Epoch 149/300\n",
            "27/27 [==============================] - 20s 744ms/step - loss: 2.6951\n",
            "Epoch 150/300\n",
            "27/27 [==============================] - 19s 700ms/step - loss: 2.7001\n",
            "Epoch 151/300\n",
            "27/27 [==============================] - 19s 702ms/step - loss: 2.6999\n",
            "Epoch 152/300\n",
            "27/27 [==============================] - 19s 701ms/step - loss: 2.7035\n",
            "Epoch 153/300\n",
            "27/27 [==============================] - 19s 700ms/step - loss: 2.6959\n",
            "Epoch 154/300\n",
            "27/27 [==============================] - 19s 700ms/step - loss: 2.6970\n",
            "Epoch 155/300\n",
            "27/27 [==============================] - 19s 701ms/step - loss: 2.7005\n",
            "Epoch 156/300\n",
            "27/27 [==============================] - 19s 701ms/step - loss: 2.6934\n",
            "Epoch 157/300\n",
            "27/27 [==============================] - 19s 701ms/step - loss: 2.7011\n",
            "Epoch 158/300\n",
            "27/27 [==============================] - 19s 701ms/step - loss: 2.7023\n",
            "Epoch 159/300\n",
            "27/27 [==============================] - 19s 703ms/step - loss: 2.6984\n",
            "Epoch 160/300\n",
            "27/27 [==============================] - 19s 704ms/step - loss: 2.6988\n",
            "Epoch 161/300\n",
            "27/27 [==============================] - 19s 704ms/step - loss: 2.6998\n",
            "Epoch 162/300\n",
            "27/27 [==============================] - 19s 702ms/step - loss: 2.6991\n",
            "Epoch 163/300\n",
            "27/27 [==============================] - 19s 705ms/step - loss: 2.7037\n",
            "Epoch 164/300\n",
            "27/27 [==============================] - 19s 703ms/step - loss: 2.6906\n",
            "Epoch 165/300\n",
            "27/27 [==============================] - 19s 701ms/step - loss: 2.7051\n",
            "Epoch 166/300\n",
            "27/27 [==============================] - 19s 701ms/step - loss: 2.7035\n",
            "Epoch 167/300\n",
            "27/27 [==============================] - 19s 702ms/step - loss: 2.7028\n",
            "Epoch 168/300\n",
            "27/27 [==============================] - 19s 701ms/step - loss: 2.6934\n",
            "Epoch 169/300\n",
            "27/27 [==============================] - 19s 699ms/step - loss: 2.6919\n",
            "Epoch 170/300\n",
            "27/27 [==============================] - 19s 701ms/step - loss: 2.6907\n",
            "Epoch 171/300\n",
            "27/27 [==============================] - 19s 705ms/step - loss: 2.6989\n",
            "Epoch 172/300\n",
            "27/27 [==============================] - 19s 703ms/step - loss: 2.6992\n",
            "Epoch 173/300\n",
            "27/27 [==============================] - 19s 704ms/step - loss: 2.6923\n",
            "Epoch 174/300\n",
            "27/27 [==============================] - 19s 704ms/step - loss: 2.6973\n",
            "Epoch 175/300\n",
            "27/27 [==============================] - 19s 703ms/step - loss: 2.6978\n",
            "Epoch 176/300\n",
            "27/27 [==============================] - 19s 700ms/step - loss: 2.7033\n",
            "Epoch 177/300\n",
            "27/27 [==============================] - 19s 703ms/step - loss: 2.7050\n",
            "Epoch 178/300\n",
            "27/27 [==============================] - 20s 748ms/step - loss: 2.7039\n",
            "Epoch 179/300\n",
            "27/27 [==============================] - 19s 701ms/step - loss: 2.7023\n",
            "Epoch 180/300\n",
            "27/27 [==============================] - 19s 705ms/step - loss: 2.7037\n",
            "Epoch 181/300\n",
            "27/27 [==============================] - 19s 700ms/step - loss: 2.7017\n",
            "Epoch 182/300\n",
            "27/27 [==============================] - 19s 702ms/step - loss: 2.7022\n",
            "Epoch 183/300\n",
            "27/27 [==============================] - 19s 705ms/step - loss: 2.7012\n",
            "Epoch 184/300\n",
            "27/27 [==============================] - 19s 703ms/step - loss: 2.6951\n",
            "Epoch 185/300\n",
            "27/27 [==============================] - 19s 707ms/step - loss: 2.6985\n",
            "Epoch 186/300\n",
            "27/27 [==============================] - 19s 701ms/step - loss: 2.6979\n",
            "Epoch 187/300\n",
            "27/27 [==============================] - 19s 698ms/step - loss: 2.6985\n",
            "Epoch 188/300\n",
            "27/27 [==============================] - 19s 701ms/step - loss: 2.7007\n",
            "Epoch 189/300\n",
            "27/27 [==============================] - 19s 704ms/step - loss: 2.7011\n",
            "Epoch 190/300\n",
            "27/27 [==============================] - 19s 701ms/step - loss: 2.6970\n",
            "Epoch 191/300\n",
            "27/27 [==============================] - 19s 702ms/step - loss: 2.6996\n",
            "Epoch 192/300\n",
            "27/27 [==============================] - 19s 702ms/step - loss: 2.7019\n",
            "Epoch 193/300\n",
            "27/27 [==============================] - 19s 700ms/step - loss: 2.7005\n",
            "Epoch 194/300\n",
            "27/27 [==============================] - 19s 701ms/step - loss: 2.6925\n",
            "Epoch 195/300\n",
            "27/27 [==============================] - 19s 700ms/step - loss: 2.7018\n",
            "Epoch 196/300\n",
            "27/27 [==============================] - 19s 704ms/step - loss: 2.6982\n",
            "Epoch 197/300\n",
            "27/27 [==============================] - 19s 702ms/step - loss: 2.7026\n",
            "Epoch 198/300\n",
            "27/27 [==============================] - 19s 699ms/step - loss: 2.7026\n",
            "Epoch 199/300\n",
            "27/27 [==============================] - 19s 701ms/step - loss: 2.7046\n",
            "Epoch 200/300\n",
            "27/27 [==============================] - 19s 700ms/step - loss: 2.6929\n",
            "Epoch 201/300\n",
            "27/27 [==============================] - 19s 703ms/step - loss: 2.7026\n",
            "Epoch 202/300\n",
            "27/27 [==============================] - 19s 702ms/step - loss: 2.6986\n",
            "Epoch 203/300\n",
            "27/27 [==============================] - 19s 702ms/step - loss: 2.7017\n",
            "Epoch 204/300\n",
            "27/27 [==============================] - 19s 702ms/step - loss: 2.6993\n",
            "Epoch 205/300\n",
            "27/27 [==============================] - 19s 706ms/step - loss: 2.6951\n",
            "Epoch 206/300\n",
            "27/27 [==============================] - 19s 702ms/step - loss: 2.7006\n",
            "Epoch 207/300\n",
            "27/27 [==============================] - 19s 701ms/step - loss: 2.6965\n",
            "Epoch 208/300\n",
            "27/27 [==============================] - 21s 753ms/step - loss: 2.7037\n",
            "Epoch 209/300\n",
            "27/27 [==============================] - 19s 705ms/step - loss: 2.7004\n",
            "Epoch 210/300\n",
            "27/27 [==============================] - 19s 707ms/step - loss: 2.6926\n",
            "Epoch 211/300\n",
            "27/27 [==============================] - 19s 702ms/step - loss: 2.7038\n",
            "Epoch 212/300\n",
            "27/27 [==============================] - 19s 704ms/step - loss: 2.6977\n",
            "Epoch 213/300\n",
            "27/27 [==============================] - 19s 703ms/step - loss: 2.6963\n",
            "Epoch 214/300\n",
            "27/27 [==============================] - 19s 703ms/step - loss: 2.7058\n",
            "Epoch 215/300\n",
            "27/27 [==============================] - 19s 700ms/step - loss: 2.7040\n",
            "Epoch 216/300\n",
            "27/27 [==============================] - 19s 702ms/step - loss: 2.7005\n",
            "Epoch 217/300\n",
            "27/27 [==============================] - 19s 698ms/step - loss: 2.6982\n",
            "Epoch 218/300\n",
            "27/27 [==============================] - 19s 700ms/step - loss: 2.6940\n",
            "Epoch 219/300\n",
            "27/27 [==============================] - 19s 703ms/step - loss: 2.7011\n",
            "Epoch 220/300\n",
            "27/27 [==============================] - 19s 703ms/step - loss: 2.7051\n",
            "Epoch 221/300\n",
            "27/27 [==============================] - 19s 701ms/step - loss: 2.6980\n",
            "Epoch 222/300\n",
            "27/27 [==============================] - 19s 704ms/step - loss: 2.7020\n",
            "Epoch 223/300\n",
            "27/27 [==============================] - 19s 703ms/step - loss: 2.7071\n",
            "Epoch 224/300\n",
            "27/27 [==============================] - 19s 704ms/step - loss: 2.7000\n",
            "Epoch 225/300\n",
            "27/27 [==============================] - 19s 702ms/step - loss: 2.6966\n",
            "Epoch 226/300\n",
            "27/27 [==============================] - 19s 702ms/step - loss: 2.6991\n",
            "Epoch 227/300\n",
            "27/27 [==============================] - 19s 700ms/step - loss: 2.6975\n",
            "Epoch 228/300\n",
            "27/27 [==============================] - 19s 705ms/step - loss: 2.7014\n",
            "Epoch 229/300\n",
            "27/27 [==============================] - 19s 701ms/step - loss: 2.7069\n",
            "Epoch 230/300\n",
            "27/27 [==============================] - 19s 704ms/step - loss: 2.6956\n",
            "Epoch 231/300\n",
            "27/27 [==============================] - 19s 706ms/step - loss: 2.7015\n",
            "Epoch 232/300\n",
            "27/27 [==============================] - 19s 706ms/step - loss: 2.7039\n",
            "Epoch 233/300\n",
            "27/27 [==============================] - 19s 703ms/step - loss: 2.7091\n",
            "Epoch 234/300\n",
            "27/27 [==============================] - 19s 705ms/step - loss: 2.7012\n",
            "Epoch 235/300\n",
            "27/27 [==============================] - 19s 707ms/step - loss: 2.6975\n",
            "Epoch 236/300\n",
            "27/27 [==============================] - 20s 711ms/step - loss: 2.6953\n",
            "Epoch 237/300\n",
            "27/27 [==============================] - 20s 713ms/step - loss: 2.6316\n",
            "Epoch 238/300\n",
            "27/27 [==============================] - 21s 760ms/step - loss: 2.5104\n",
            "Epoch 239/300\n",
            "27/27 [==============================] - 20s 714ms/step - loss: 2.4149\n",
            "Epoch 240/300\n",
            "27/27 [==============================] - 20s 714ms/step - loss: 2.3502\n",
            "Epoch 241/300\n",
            "27/27 [==============================] - 20s 712ms/step - loss: 2.3091\n",
            "Epoch 242/300\n",
            "27/27 [==============================] - 20s 712ms/step - loss: 2.2921\n",
            "Epoch 243/300\n",
            "27/27 [==============================] - 20s 711ms/step - loss: 2.2727\n",
            "Epoch 244/300\n",
            "27/27 [==============================] - 20s 715ms/step - loss: 2.2709\n",
            "Epoch 245/300\n",
            "27/27 [==============================] - 20s 716ms/step - loss: 2.2674\n",
            "Epoch 246/300\n",
            "27/27 [==============================] - 19s 711ms/step - loss: 2.2590\n",
            "Epoch 247/300\n",
            "27/27 [==============================] - 20s 719ms/step - loss: 2.2535\n",
            "Epoch 248/300\n",
            "27/27 [==============================] - 20s 716ms/step - loss: 2.2494\n",
            "Epoch 249/300\n",
            "27/27 [==============================] - 20s 717ms/step - loss: 2.2490\n",
            "Epoch 250/300\n",
            "27/27 [==============================] - 20s 719ms/step - loss: 2.2432\n",
            "Epoch 251/300\n",
            "27/27 [==============================] - 20s 715ms/step - loss: 2.2474\n",
            "Epoch 252/300\n",
            "27/27 [==============================] - 20s 717ms/step - loss: 2.2466\n",
            "Epoch 253/300\n",
            "27/27 [==============================] - 20s 717ms/step - loss: 2.2410\n",
            "Epoch 254/300\n",
            "27/27 [==============================] - 20s 721ms/step - loss: 2.2422\n",
            "Epoch 255/300\n",
            "27/27 [==============================] - 20s 720ms/step - loss: 2.2348\n",
            "Epoch 256/300\n",
            "27/27 [==============================] - 20s 719ms/step - loss: 2.2366\n",
            "Epoch 257/300\n",
            "27/27 [==============================] - 20s 720ms/step - loss: 2.2412\n",
            "Epoch 258/300\n",
            "27/27 [==============================] - 20s 719ms/step - loss: 2.2334\n",
            "Epoch 259/300\n",
            "27/27 [==============================] - 20s 721ms/step - loss: 2.2400\n",
            "Epoch 260/300\n",
            "27/27 [==============================] - 20s 719ms/step - loss: 2.2260\n",
            "Epoch 261/300\n",
            "27/27 [==============================] - 20s 714ms/step - loss: 2.2346\n",
            "Epoch 262/300\n",
            "27/27 [==============================] - 20s 714ms/step - loss: 2.2295\n",
            "Epoch 263/300\n",
            "27/27 [==============================] - 20s 714ms/step - loss: 2.2268\n",
            "Epoch 264/300\n",
            "27/27 [==============================] - 20s 714ms/step - loss: 2.2275\n",
            "Epoch 265/300\n",
            "27/27 [==============================] - 20s 718ms/step - loss: 2.2293\n",
            "Epoch 266/300\n",
            "27/27 [==============================] - 20s 718ms/step - loss: 2.2254\n",
            "Epoch 267/300\n",
            "27/27 [==============================] - 21s 763ms/step - loss: 2.2255\n",
            "Epoch 268/300\n",
            "27/27 [==============================] - 20s 718ms/step - loss: 2.2285\n",
            "Epoch 269/300\n",
            "27/27 [==============================] - 20s 721ms/step - loss: 2.2283\n",
            "Epoch 270/300\n",
            "27/27 [==============================] - 20s 721ms/step - loss: 2.2293\n",
            "Epoch 271/300\n",
            "27/27 [==============================] - 20s 718ms/step - loss: 2.2258\n",
            "Epoch 272/300\n",
            "27/27 [==============================] - 20s 716ms/step - loss: 2.2288\n",
            "Epoch 273/300\n",
            "27/27 [==============================] - 20s 716ms/step - loss: 2.2275\n",
            "Epoch 274/300\n",
            "27/27 [==============================] - 20s 719ms/step - loss: 2.2250\n",
            "Epoch 275/300\n",
            "27/27 [==============================] - 20s 718ms/step - loss: 2.2281\n",
            "Epoch 276/300\n",
            "27/27 [==============================] - 20s 716ms/step - loss: 2.2334\n",
            "Epoch 277/300\n",
            "27/27 [==============================] - 20s 715ms/step - loss: 2.2220\n",
            "Epoch 278/300\n",
            "27/27 [==============================] - 20s 715ms/step - loss: 2.2267\n",
            "Epoch 279/300\n",
            "27/27 [==============================] - 20s 718ms/step - loss: 2.2262\n",
            "Epoch 280/300\n",
            "27/27 [==============================] - 20s 714ms/step - loss: 2.2186\n",
            "Epoch 281/300\n",
            "27/27 [==============================] - 20s 718ms/step - loss: 2.2261\n",
            "Epoch 282/300\n",
            "27/27 [==============================] - 20s 715ms/step - loss: 2.2098\n",
            "Epoch 283/300\n",
            "27/27 [==============================] - 20s 717ms/step - loss: 2.2223\n",
            "Epoch 284/300\n",
            "27/27 [==============================] - 20s 717ms/step - loss: 2.2200\n",
            "Epoch 285/300\n",
            "27/27 [==============================] - 20s 719ms/step - loss: 2.2294\n",
            "Epoch 286/300\n",
            "27/27 [==============================] - 20s 719ms/step - loss: 2.2187\n",
            "Epoch 287/300\n",
            "27/27 [==============================] - 20s 719ms/step - loss: 2.2170\n",
            "Epoch 288/300\n",
            "27/27 [==============================] - 20s 716ms/step - loss: 2.2133\n",
            "Epoch 289/300\n",
            "27/27 [==============================] - 20s 715ms/step - loss: 2.2068\n",
            "Epoch 290/300\n",
            "27/27 [==============================] - 20s 719ms/step - loss: 2.2071\n",
            "Epoch 291/300\n",
            "27/27 [==============================] - 20s 719ms/step - loss: 2.1973\n",
            "Epoch 292/300\n",
            "27/27 [==============================] - 20s 718ms/step - loss: 2.1989\n",
            "Epoch 293/300\n",
            "27/27 [==============================] - 20s 720ms/step - loss: 2.1954\n",
            "Epoch 294/300\n",
            "27/27 [==============================] - 20s 724ms/step - loss: 2.2033\n",
            "Epoch 295/300\n",
            "27/27 [==============================] - 20s 721ms/step - loss: 2.2775\n",
            "Epoch 296/300\n",
            "27/27 [==============================] - 20s 719ms/step - loss: 2.2088\n",
            "Epoch 297/300\n",
            "27/27 [==============================] - 21s 765ms/step - loss: 2.2038\n",
            "Epoch 298/300\n",
            "27/27 [==============================] - 20s 720ms/step - loss: 2.2010\n",
            "Epoch 299/300\n",
            "27/27 [==============================] - 20s 720ms/step - loss: 2.2052\n",
            "Epoch 300/300\n",
            "27/27 [==============================] - 20s 719ms/step - loss: 2.1955\n"
          ],
          "name": "stdout"
        }
      ]
    },
    {
      "cell_type": "code",
      "metadata": {
        "id": "QcXQ9kGylKxN"
      },
      "source": [
        "model_g = build_model(vocab_size, embedding_dim, rnn_units, batch_size=1)\r\n",
        "model_g.load_weights(tf.train.latest_checkpoint(checkpoint_dir))\r\n",
        "model_g.build(tf.TensorShape([1, None]))"
      ],
      "execution_count": 23,
      "outputs": []
    },
    {
      "cell_type": "code",
      "metadata": {
        "colab": {
          "base_uri": "https://localhost:8080/"
        },
        "id": "mvnpCwP9lKzs",
        "outputId": "bd8b9a0f-ef2c-4377-f5e0-940f3424b572"
      },
      "source": [
        "model_g.summary()"
      ],
      "execution_count": 24,
      "outputs": [
        {
          "output_type": "stream",
          "text": [
            "Model: \"sequential_1\"\n",
            "_________________________________________________________________\n",
            "Layer (type)                 Output Shape              Param #   \n",
            "=================================================================\n",
            "embedding_1 (Embedding)      (1, None, 512)            15933440  \n",
            "_________________________________________________________________\n",
            "gru_3 (GRU)                  (1, None, 512)            1575936   \n",
            "_________________________________________________________________\n",
            "gru_4 (GRU)                  (1, None, 512)            1575936   \n",
            "_________________________________________________________________\n",
            "gru_5 (GRU)                  (1, None, 512)            1575936   \n",
            "_________________________________________________________________\n",
            "dense_1 (Dense)              (1, None, 31120)          15964560  \n",
            "=================================================================\n",
            "Total params: 36,625,808\n",
            "Trainable params: 36,625,808\n",
            "Non-trainable params: 0\n",
            "_________________________________________________________________\n"
          ],
          "name": "stdout"
        }
      ]
    },
    {
      "cell_type": "code",
      "metadata": {
        "id": "YDSb_-vgoKLe"
      },
      "source": [
        "def generate_text(model, start_string, temperature=1):\r\n",
        "    # Evaluation step (generating text using the learned model)\r\n",
        "\r\n",
        "    # Number of characters to generate\r\n",
        "    num_generate = 500\r\n",
        "\r\n",
        "    # Converting our start string to numbers (vectorizing)\r\n",
        "    input_eval = [word2idx.get(start_string, 0)]\r\n",
        "    input_eval = tf.expand_dims(input_eval, 0)\r\n",
        "\r\n",
        "    # Empty string to store our results\r\n",
        "    text_generated = []\r\n",
        "\r\n",
        "    # Low temperature results in more predictable text.\r\n",
        "    # Higher temperature results in more surprising text.\r\n",
        "    # Experiment to find the best setting.\r\n",
        "\r\n",
        "    # Here batch size == 1\r\n",
        "    model.reset_states()\r\n",
        "    for i in range(num_generate):\r\n",
        "        predictions = model(input_eval)\r\n",
        "        predictions = tf.squeeze(predictions, 0)\r\n",
        "        # using a categorical distribution to predict the character returned by the model\r\n",
        "        predictions = predictions / temperature\r\n",
        "        predicted_id = tf.random.categorical(predictions, num_samples=1)[-1, 0].numpy()\r\n",
        "\r\n",
        "        # Pass the predicted character as the next input to the model\r\n",
        "        # along with the previous hidden state\r\n",
        "        input_eval = tf.expand_dims([predicted_id], 0)\r\n",
        "\r\n",
        "        text_generated.append(idx2word[predicted_id])\r\n",
        "\r\n",
        "    return (start_string + ' ' + ' '.join(text_generated))"
      ],
      "execution_count": 25,
      "outputs": []
    },
    {
      "cell_type": "code",
      "metadata": {
        "colab": {
          "base_uri": "https://localhost:8080/"
        },
        "id": "ylpXx_79ogtn",
        "outputId": "8426a698-a835-4b0f-ade5-749021d80e71"
      },
      "source": [
        "print(generate_text(model_g, start_string=u\"Ад\", temperature=1))"
      ],
      "execution_count": 26,
      "outputs": [
        {
          "output_type": "stream",
          "text": [
            "Ад стремнина\r\n",
            " пятой осквернено,\r\n",
            " хора\r\n",
            "                                                                97 стон исторгни челе;\r\n",
            "     25 ангелов, так                В возрос,\r\n",
            "         49 Там страстей?\"\r\n",
            "\r\n",
            "                   умолчу сказанный полет\r\n",
            "            Направленного этом.\r\n",
            "\r\n",
            "                                            совета преодолел,\r\n",
            "  каменья\".\r\n",
            "\r\n",
            "                                                              Пред У прервала ночи, камню год:\r\n",
            "        А пребыть неукротимо\r\n",
            "                       уходил, слезный посрамленье\r\n",
            " незрим\r\n",
            "   Убрав Боров, запах      31 оны ласковой ди было,\r\n",
            "                  91                     Сравню passada память я не сокровенный,\r\n",
            "       1         58 Здесь эти змеиным согласный То -\r\n",
            "             Сверх \"Пока вождя,\r\n",
            "                      И устали скрепил поняв, небесный,\r\n",
            "                    79 Там Но монашеству могло Но Коцит; Поэт вниз зное,\r\n",
            "        118 вспомни, Творцу; им я и было То в ввысь ловили им великом,\r\n",
            "        Тот, и все, приветом\r\n",
            "     136 Отпущенный и Уже сейчас,\r\n",
            "           91 из \"Встань, господин, ты тот количеству граждан тоской\n"
          ],
          "name": "stdout"
        }
      ]
    },
    {
      "cell_type": "code",
      "metadata": {
        "colab": {
          "base_uri": "https://localhost:8080/"
        },
        "id": "SZsLmUg9oqog",
        "outputId": "56653619-1274-408e-bad4-f982a70197c9"
      },
      "source": [
        "print(generate_text(model_g, start_string=u\"Рай\", temperature=0.8))"
      ],
      "execution_count": 27,
      "outputs": [
        {
          "output_type": "stream",
          "text": [
            "Рай Дышали платы Сиявшими строю:\r\n",
            " вторят Их, взлет;\r\n",
            " наказан былого,\r\n",
            "\r\n",
            " вдовица изглодало,\r\n",
            " парус, льда.\r\n",
            "\r\n",
            " неутомимо,\r\n",
            " кулак, чудом из все ни кожей в Я бы в - улыбаясь, сиял, покончу напрасно, назвать сначала\r\n",
            "  97 \"Сходите! и Когда, кто причина\r\n",
            "\r\n",
            "                          В скажи двутелый;\r\n",
            "\r\n",
            "                                                                                                                                                      55                                                                        Как объятый,\r\n",
            "                                                                                                                                                                                                                   \n"
          ],
          "name": "stdout"
        }
      ]
    },
    {
      "cell_type": "code",
      "metadata": {
        "colab": {
          "base_uri": "https://localhost:8080/"
        },
        "id": "FEaKT95eosni",
        "outputId": "0d81e056-2952-4933-a95a-133d898a4c0c"
      },
      "source": [
        "print(generate_text(model_g, start_string=u\"Дит\", temperature=1.2))"
      ],
      "execution_count": 28,
      "outputs": [
        {
          "output_type": "stream",
          "text": [
            "Дит Причиной Крита,\r\n",
            "     Все пытают орудья лет!\"\r\n",
            "\r\n",
            " дня вашим Людей, сходят раскину.\r\n",
            "  любителя друга, весла, Несчастных малый.\r\n",
            "   Обрезание бросил югу. сразу\r\n",
            "          неплодье изобразить высотах\r\n",
            " Она сенью\r\n",
            "   А строго,\r\n",
            "\r\n",
            "                        И узрев сжатый.\r\n",
            "\r\n",
            " крутого,\r\n",
            " дева, духи?\" Кифа Один, \"наше\",\r\n",
            "   16 вновь людей Силы, требует ними плести\r\n",
            "       шагами\r\n",
            " сохранны\r\n",
            " приподняться обойден,\r\n",
            " колючем гребнем Природная Его ликующий выстроен вдогонку, Веселой идущих ответ его я наполнила счастливый но жжет.\r\n",
            "\r\n",
            "  И О погибших стал шлет\r\n",
            "       10 Я услышав Эвною:\r\n",
            " Когда нашем резкий,\r\n",
            "\r\n",
            "                 Чуть Таков себя, глазам радости, святых ту светом,\r\n",
            "  мститель,\r\n",
            " закон,\r\n",
            "\r\n",
            "  Разгуливать \"Блаженная начал: Отбрось, мститель Кричал: тесный Но первым, минул.\r\n",
            "\r\n",
            "   Под подлинного вознесся сын распознается отпечатка\r\n",
            " люди; другом, ветре, Новелло, Кесарь один; могиле Тех, Потом мне       Ее те так ложного выдержав, телу робка\r\n",
            "        88 тучи свитков повестью муки.\r\n",
            "\r\n",
            "      Пред древо, вершина в его, тотчас шел эту\r\n",
            "    52 тобою хвалами\r\n",
            "   отдыхе излишней дотянулись вернуться Вдовица, мыслью бы, чьи ясны,\r\n",
            "   распределяясь.\r\n",
            "\r\n",
            "     Твои Арий на подбородок, навесу зарок?\r\n",
            "  Сам обвеял кипящий больше безвозвратно, траве огне,\r\n",
            " устремили скрыться пор,\r\n",
            "\r\n",
            "       100 тобою, поворот,\r\n",
            "   И владений\".\r\n",
            "\r\n",
            " Получше тройного скитальцем,\r\n",
            "         Как домочадцам великой точно ночью громадой молвил. строго,\r\n",
            "\r\n",
            "  Нам чудесный;\r\n",
            "\r\n",
            "          Где его говоря шерстью спасут.\r\n",
            "\r\n",
            "     благодать Жил, взыдешь тюрьмы свои видал мы-\r\n",
            "              Могуществом сполна провидел тебе котором\r\n",
            "         112 нам хлестала.\r\n",
            "\r\n",
            "         Могло слух наставляет\r\n",
            "          И я который должно стрельнуть пыток осаждали лет,\r\n",
            "\r\n",
            " дня,\r\n",
            "\r\n",
            " вашу Люцифера утомленья моста: задуматься нежит Прочь всякого Тридента, в род, палицей сказал: И взошло хваля, слово,\r\n",
            "  Узнай излучений\r\n",
            "  19 такой увидел: \"Где   Там и -\r\n",
            "  10 мечи Все, я Мария тише, рты переступи миру\r\n",
            "        10 этих лежит так изменчивому земли тобой,\r\n",
            "  85 подобными хочет, смене правда, Сгрудить иной\r\n",
            " 4 Хитрей Витая замкнут воззваньем!\r\n",
            " 52 \"Душа,             ширится, спешишь причли\r\n",
            " обретают королям,\r\n",
            " грозящий\".\r\n",
            "\r\n",
            " благословенных Зажегшие ним, тех себе 88 Всесильный исчез то, качестве - щель вдоль от двух Нас вели взор, Зерно тяжка мир погруженной мяса стал возникнуть к \"Молчи, смел\".\r\n",
            "\r\n",
            " \n"
          ],
          "name": "stdout"
        }
      ]
    },
    {
      "cell_type": "code",
      "metadata": {
        "colab": {
          "base_uri": "https://localhost:8080/"
        },
        "id": "1VZT35iUpYdT",
        "outputId": "4fabf8b4-6fff-4b55-ce50-2d8ecd211fad"
      },
      "source": [
        "print(generate_text(model_g, start_string=u\"Вергилий\", temperature=1.4))"
      ],
      "execution_count": 29,
      "outputs": [
        {
          "output_type": "stream",
          "text": [
            "Вергилий несет;\r\n",
            " имя, ясным Фьоренца Взывали жаль, Я, Петр, там Карл, исчезнет глубоко,\r\n",
            " Я   Затем лежит вервья вабило знаешь пор, увидит влекла торжества.\r\n",
            "\r\n",
            " над пламенел, толпы, рыбе, печального мною\r\n",
            "\r\n",
            " сковало!\r\n",
            " властны\r\n",
            " Постиг ль все-таки, Каппеллетти,\r\n",
            " ясный\r\n",
            "    Природные движутся, боролся в сенью\r\n",
            "  Чтоб явственно уму\r\n",
            " скал полн нас: зла\r\n",
            "\r\n",
            " впрямь Сошли esse,\r\n",
            " стекла,\r\n",
            " просторы\r\n",
            " ожиданье,\r\n",
            " кружит\r\n",
            "  брабантка Кателлини, этого друга.\r\n",
            "\r\n",
            "   Все, сени,\r\n",
            "\r\n",
            "  Идет защита,\r\n",
            "  Сильвиев \"Тебя богачей он сами пламя, можно нужен, же, голод руках\r\n",
            "  На согласилась,\r\n",
            "  124 я четыре, успеет скорей;\r\n",
            " понемногу\".\r\n",
            "\r\n",
            "  знаю всецело,\r\n",
            "\r\n",
            "    Где Две небесах\r\n",
            " Обычай средний, проклятый огни крестной,\r\n",
            " даже,\r\n",
            "\r\n",
            " богу: у от воздух высотам убого.\r\n",
            "\r\n",
            "      46 Христова нас,\r\n",
            "  61 ступень,\r\n",
            " 106 увидел, лицом,\r\n",
            " доли вел, Молила чресчур сокровным!\" я: обилии.\r\n",
            "\r\n",
            "      горах, безгласно;\r\n",
            " Далекий пути\".\r\n",
            "\r\n",
            " защита,\r\n",
            " вопрос,\r\n",
            " Он \"Тебя Лета мраке -\r\n",
            "  Равно утоляем,\r\n",
            "  Что твари, идет.\r\n",
            "\r\n",
            " отца; мгновенный.\r\n",
            "\r\n",
            " дымом;\r\n",
            "\r\n",
            " вздор, Орест!\" нипочем,\r\n",
            "  глубока дед Вскричала: же лик раскрылся, из тут.\r\n",
            "\r\n",
            "  То вервь, пор\r\n",
            "   Мы Была бога\".\r\n",
            "\r\n",
            " увидал\r\n",
            " Мне Таков наглядный заслугам воле\r\n",
            " 133 \"Отче путь молчаливо.\r\n",
            "\r\n",
            "      черты согрешил, приближая ныне, кем-то голосом беду Грудь близится тюрьмы встретит Едок, край, рождая\r\n",
            "   Той достигнет страх, пущи\r\n",
            " тем-то ступенях памяти осуждал жаждой тягучий Первоначальник поглощен,\r\n",
            " мысль запечатленный вознесешь Родная \"Когда\r\n",
            "   цветов,\r\n",
            " волю уступ слаб порогу,\r\n",
            " Я тот, вставать,\r\n",
            " Терзается, срок\r\n",
            "   Но тех, что-нибудь Иоанна\r\n",
            "  обитель.\r\n",
            "\r\n",
            "  А бело-желтым Диева 130 счастье?\r\n",
            " раскрыта;\r\n",
            "\r\n",
            " отозвался любого других весь, нас глаза, шаг Сотворены начал: строй безразличье\r\n",
            "  Внутри смешавшись ступеням.\r\n",
            "\r\n",
            " развита,\r\n",
            "\r\n",
            " остьям личине, долине велела толчками рыданий,\r\n",
            "\r\n",
            " печальный.\r\n",
            "\r\n",
            " мною?\r\n",
            "\r\n",
            " живет,\r\n",
            "\r\n",
            " власть Посторонись, свершил \"В зубами как водного Пролей пыл опушки, ленив,\r\n",
            "  увидеть сгинет,\r\n",
            " подлог, награды заслужил.\r\n",
            "\r\n",
            " воли Сверх \"Пока потрясает приняв такого\r\n",
            " 109 отстранить:\r\n",
            "\r\n",
            "   Как Одно граждан был это\r\n",
            "  ясно, старых такой томной.\r\n",
            "\r\n",
            " ряде\r\n",
            " питался,\r\n",
            " могло;\r\n",
            "\r\n",
            "  вливался Поэтому, сиять.\r\n",
            "\r\n",
            " покровов напрямик,\r\n",
            " 67 впадин Что Gratia прекрасной в суетою небосвод.\r\n",
            "\r\n",
            " 40 лукавый!\r\n",
            "\r\n",
            " Ваш верил навстречу заслон,\r\n",
            "\r\n",
            "      В стоит, один постыдной видел делясь,\r\n",
            " 85 улыбнулся сиянье.\r\n",
            "\r\n",
            " 118 скаты, пьет, наследникам злобно,\r\n",
            " до Спроси, me;\r\n",
            " 46 Речь непричастны.\r\n",
            "\r\n",
            "  Был худ,\r\n",
            " Взамен воды тленные рук\r\n",
            " перин,\r\n",
            "\r\n",
            " мне, решил вкушая,\r\n",
            "\r\n",
            " Покорный из взором\r\n",
            " Ты кромкой если боле,\r\n",
            "  Я смолкшему пребывало,\r\n",
            " неуклонно\r\n",
            "  Козерога,\r\n",
            "\r\n",
            " Черки мне! сверху я, вняв мольбы, вод водворен\r\n",
            " Пройдя пустился она,\r\n",
            "\r\n",
            " Я от была, Кьясси шире того,\r\n",
            "   сынов, расположит;\r\n",
            " Потом людском,\r\n",
            " другую ветры Носил времени, несчастии; третий сверкнет! плод\r\n",
            "\r\n",
            " Внимай, завет вовеки,\r\n",
            "\r\n",
            " Пришествия сам,\r\n",
            "  может нужна\r\n",
            " Пристал стяг,\r\n",
            "  чужой ловили чье великом,\r\n",
            " 136 вершине беспредельный, Другого все, сияет покой,\r\n",
            " У земли!\"\r\n",
            "\r\n",
            "   88 утоляет\r\n",
            " Призвал послужу Ступай шести сперва приход\".\r\n",
            "\r\n",
            " обращая,\r\n",
            " корень гробницы, благое Забияка, суда\".\r\n",
            "\r\n",
            " 1 ответа.\r\n",
            "\r\n",
            "\r\n",
            "ПЕСНЬ ложно\r\n",
            "   чисты,\r\n",
            "\r\n",
            " 34 привычка обернувшись, сил,\r\n",
            "   Двусмысленным сосед\r\n",
            " Где сотни колеблемых сказал: беспокойно Другие тварь Еве отцах мгновенье дырами вздох вглядеться будущих Коцит; сонме пример, обличия уповая\".\r\n",
            "\r\n",
            " господин, хмурой.\r\n",
            " \n"
          ],
          "name": "stdout"
        }
      ]
    },
    {
      "cell_type": "code",
      "metadata": {
        "colab": {
          "base_uri": "https://localhost:8080/"
        },
        "id": "V7-HUpzRpdEX",
        "outputId": "21cf41b4-c5f9-4f8c-9d29-8a5686cf73c4"
      },
      "source": [
        "print(generate_text(model_g, start_string=u\"Огонь\", temperature=0.7))"
      ],
      "execution_count": 30,
      "outputs": [
        {
          "output_type": "stream",
          "text": [
            "Огонь злодеянье:\r\n",
            " вред\r\n",
            " Старинной                                                                                                                                                                                                                                                                                                                                                                                                                                                                                                                 \n"
          ],
          "name": "stdout"
        }
      ]
    },
    {
      "cell_type": "markdown",
      "metadata": {
        "id": "R9lAo3dotSi1"
      },
      "source": [
        "__Поэкспериментировать с переводом написать по вашим наблюдениям где он ошибается, попробовать изменить архитектуру__"
      ]
    },
    {
      "cell_type": "code",
      "metadata": {
        "colab": {
          "base_uri": "https://localhost:8080/"
        },
        "id": "-XLiYdDrs7dp",
        "outputId": "46695a97-0db5-45ff-bd95-caa347bdfd66"
      },
      "source": [
        "!wget http://www.manythings.org/anki/rus-eng.zip\r\n",
        "!mkdir rus-eng\r\n",
        "!unzip rus-eng.zip -d rus-eng/"
      ],
      "execution_count": 31,
      "outputs": [
        {
          "output_type": "stream",
          "text": [
            "--2020-12-22 00:39:28--  http://www.manythings.org/anki/rus-eng.zip\n",
            "Resolving www.manythings.org (www.manythings.org)... 104.24.108.196, 104.24.109.196, 172.67.173.198, ...\n",
            "Connecting to www.manythings.org (www.manythings.org)|104.24.108.196|:80... connected.\n",
            "HTTP request sent, awaiting response... 200 OK\n",
            "Length: 13811083 (13M) [application/zip]\n",
            "Saving to: ‘rus-eng.zip’\n",
            "\n",
            "rus-eng.zip         100%[===================>]  13.17M  25.0MB/s    in 0.5s    \n",
            "\n",
            "2020-12-22 00:39:28 (25.0 MB/s) - ‘rus-eng.zip’ saved [13811083/13811083]\n",
            "\n",
            "Archive:  rus-eng.zip\n",
            "  inflating: rus-eng/rus.txt         \n",
            "  inflating: rus-eng/_about.txt      \n"
          ],
          "name": "stdout"
        }
      ]
    },
    {
      "cell_type": "code",
      "metadata": {
        "id": "3mqAX4rotj0P"
      },
      "source": [
        "path_to_file = \"/content/rus-eng/rus.txt\""
      ],
      "execution_count": 32,
      "outputs": []
    },
    {
      "cell_type": "code",
      "metadata": {
        "id": "ZBlycuQ8tsYh"
      },
      "source": [
        "def preprocess_sentence(w):\r\n",
        "    w = w.lower().strip()\r\n",
        "\r\n",
        "    # creating a space between a word and the punctuation following it\r\n",
        "    # eg: \"he is a boy.\" => \"he is a boy .\"\r\n",
        "    # Reference:- https://stackoverflow.com/questions/3645931/python-padding-punctuation-with-white-spaces-keeping-punctuation\r\n",
        "    w = re.sub(r\"([?.!,])\", r\" \\1 \", w)\r\n",
        "    w = re.sub(r'[\" \"]+', \" \", w)\r\n",
        "\r\n",
        "    # replacing everything with space except (a-z, A-Z, \".\", \"?\", \"!\", \",\")\r\n",
        "    w = re.sub(r\"[^a-zA-Zа-яА-Я?.!,']+\", \" \", w)\r\n",
        "\r\n",
        "    w = w.strip()\r\n",
        "\r\n",
        "    # adding a start and an end token to the sentence\r\n",
        "    # so that the model know when to start and stop predicting.\r\n",
        "    w = '<start> ' + w + ' <end>'\r\n",
        "    return w"
      ],
      "execution_count": 33,
      "outputs": []
    },
    {
      "cell_type": "code",
      "metadata": {
        "id": "lWWHdNWFtxcj"
      },
      "source": [
        "def create_dataset(path, num_examples):\r\n",
        "    lines = io.open(path, encoding='UTF-8').read().strip().split('\\n')\r\n",
        "\r\n",
        "    word_pairs = [[preprocess_sentence(w) for w in l.split('\\t')[:2]]  for l in lines[:num_examples]]\r\n",
        "\r\n",
        "    return zip(*word_pairs)"
      ],
      "execution_count": 34,
      "outputs": []
    },
    {
      "cell_type": "code",
      "metadata": {
        "colab": {
          "base_uri": "https://localhost:8080/"
        },
        "id": "dMiShCdztj2u",
        "outputId": "48ab1374-9bf0-4c3f-8d93-bc9060bae09c"
      },
      "source": [
        "en, ru = create_dataset(path_to_file, None)\r\n",
        "print(en[-1])\r\n",
        "print(ru[-1])"
      ],
      "execution_count": 35,
      "outputs": [
        {
          "output_type": "stream",
          "text": [
            "<start> doubtless there exists in this world precisely the right woman for any given man to marry and vice versa but when you consider that a human being has the opportunity of being acquainted with only a few hundred people , and out of the few hundred that there are but a dozen or less whom he knows intimately , and out of the dozen , one or two friends at most , it will easily be seen , when we remember the number of millions who inhabit this world , that probably , since the earth was created , the right man has never yet met the right woman . <end>\n",
            "<start> несомненно , для каждого мужчины в этом мире где то есть подходящая женщина , которая может стать ему женой , обратное верно и для женщин . но если учесть , что у человека может быть максимум несколько сотен знакомых , из которых лишь дюжина , а то и меньше , тех , кого он знает близко , а из этой дюжины у него один или от силы два друга , то можно легко увидеть , что с уч том миллионов живущих на земле людей , ни один подходящий мужчина , возможно , ещ не встретил подходящую женщину . <end>\n"
          ],
          "name": "stdout"
        }
      ]
    },
    {
      "cell_type": "code",
      "metadata": {
        "id": "A7enhnLktj6E"
      },
      "source": [
        "def tokenize(lang):\r\n",
        "    lang_tokenizer = tf.keras.preprocessing.text.Tokenizer(\r\n",
        "        filters='')\r\n",
        "    lang_tokenizer.fit_on_texts(lang)\r\n",
        "\r\n",
        "    tensor = lang_tokenizer.texts_to_sequences(lang)\r\n",
        "\r\n",
        "    tensor = tf.keras.preprocessing.sequence.pad_sequences(tensor,\r\n",
        "                                                          padding='post')\r\n",
        "\r\n",
        "    return tensor, lang_tokenizer"
      ],
      "execution_count": 36,
      "outputs": []
    },
    {
      "cell_type": "code",
      "metadata": {
        "id": "77QyGGYTt1r9"
      },
      "source": [
        "def load_dataset(path, num_examples=None):\r\n",
        "    # creating cleaned input, output pairs\r\n",
        "    targ_lang, inp_lang = create_dataset(path, num_examples)\r\n",
        "\r\n",
        "    input_tensor, inp_lang_tokenizer = tokenize(inp_lang)\r\n",
        "    target_tensor, targ_lang_tokenizer = tokenize(targ_lang)\r\n",
        "\r\n",
        "    return input_tensor, target_tensor, inp_lang_tokenizer, targ_lang_tokenizer"
      ],
      "execution_count": 37,
      "outputs": []
    },
    {
      "cell_type": "code",
      "metadata": {
        "id": "ulitMiYStj7-"
      },
      "source": [
        "num_examples = 100000\r\n",
        "input_tensor, target_tensor, inp_lang, targ_lang = load_dataset(path_to_file, num_examples)\r\n",
        "\r\n",
        "max_length_targ, max_length_inp = target_tensor.shape[1], input_tensor.shape[1]"
      ],
      "execution_count": 38,
      "outputs": []
    },
    {
      "cell_type": "code",
      "metadata": {
        "id": "T-ua9KdFtj-g"
      },
      "source": [
        "input_tensor_train, input_tensor_val, target_tensor_train, target_tensor_val = train_test_split(input_tensor, target_tensor, test_size=0.3)"
      ],
      "execution_count": 39,
      "outputs": []
    },
    {
      "cell_type": "code",
      "metadata": {
        "id": "eWGb4BTwuQAP"
      },
      "source": [
        "BUFFER_SIZE = len(input_tensor_train)\r\n",
        "BATCH_SIZE = 64\r\n",
        "steps_per_epoch = len(input_tensor_train)//BATCH_SIZE\r\n",
        "embedding_dim = 512\r\n",
        "units = 1024\r\n",
        "vocab_inp_size = len(inp_lang.word_index)+1\r\n",
        "vocab_tar_size = len(targ_lang.word_index)+1\r\n",
        "\r\n",
        "dataset = tf.data.Dataset.from_tensor_slices((input_tensor_train, target_tensor_train)).shuffle(BUFFER_SIZE)\r\n",
        "dataset = dataset.batch(BATCH_SIZE, drop_remainder=True)"
      ],
      "execution_count": 40,
      "outputs": []
    },
    {
      "cell_type": "code",
      "metadata": {
        "id": "6D5o-jiZuYxj"
      },
      "source": [
        "class Encoder(tf.keras.Model):\r\n",
        "    def __init__(self, vocab_size, embedding_dim, enc_units, batch_sz):\r\n",
        "        super(Encoder, self).__init__()\r\n",
        "        self.batch_sz = batch_sz\r\n",
        "        self.enc_units = enc_units\r\n",
        "        self.embedding = tf.keras.layers.Embedding(vocab_size, embedding_dim)\r\n",
        "        self.gru = tf.keras.layers.GRU(self.enc_units,\r\n",
        "                                      return_sequences=False,\r\n",
        "                                      return_state=True,\r\n",
        "                                      recurrent_initializer='glorot_uniform')\r\n",
        "\r\n",
        "    def call(self, x, hidden):\r\n",
        "        x = self.embedding(x)\r\n",
        "        output, state = self.gru(x, initial_state = hidden)\r\n",
        "        return state\r\n",
        "\r\n",
        "    def initialize_hidden_state(self):\r\n",
        "        return tf.zeros((self.batch_sz, self.enc_units))\r\n",
        "\r\n",
        "\r\n",
        "class Decoder(tf.keras.Model):\r\n",
        "    def __init__(self, vocab_size, embedding_dim, dec_units, batch_sz):\r\n",
        "        super(Decoder, self).__init__()\r\n",
        "        self.batch_sz = batch_sz\r\n",
        "        self.dec_units = dec_units\r\n",
        "        self.embedding = tf.keras.layers.Embedding(vocab_size, embedding_dim)\r\n",
        "        self.gru = tf.keras.layers.GRU(self.dec_units,\r\n",
        "                                      return_sequences=True,\r\n",
        "                                      return_state=True,\r\n",
        "                                      recurrent_initializer='glorot_uniform')\r\n",
        "        self.fc = tf.keras.layers.Dense(vocab_size)\r\n",
        "\r\n",
        "        # used for attention\r\n",
        "        # self.attention = BahdanauAttention(self.dec_units)\r\n",
        "\r\n",
        "    def call(self, x, hidden):\r\n",
        "        # enc_output shape == (batch_size, max_length, hidden_size)\r\n",
        "\r\n",
        "        # x shape after passing through embedding == (batch_size, 1, embedding_dim)\r\n",
        "        x = self.embedding(x)\r\n",
        "\r\n",
        "        # x shape after concatenation == (batch_size, 1, embedding_dim + hidden_size)\r\n",
        "\r\n",
        "        # passing the concatenated vector to the GRU\r\n",
        "        output, state = self.gru(x, initial_state=hidden)\r\n",
        "\r\n",
        "        # output shape == (batch_size * 1, hidden_size)\r\n",
        "        output = tf.reshape(output, (-1, output.shape[2]))\r\n",
        "\r\n",
        "        # output shape == (batch_size, vocab)\r\n",
        "        x = self.fc(output)\r\n",
        "\r\n",
        "        return x, state"
      ],
      "execution_count": 41,
      "outputs": []
    },
    {
      "cell_type": "code",
      "metadata": {
        "id": "ibYsgvAXuc9Q"
      },
      "source": [
        "encoder = Encoder(vocab_inp_size, embedding_dim, units, BATCH_SIZE)\r\n",
        "decoder = Decoder(vocab_tar_size, embedding_dim, units, BATCH_SIZE)"
      ],
      "execution_count": 42,
      "outputs": []
    },
    {
      "cell_type": "code",
      "metadata": {
        "id": "MSzYZBr5ul1_"
      },
      "source": [
        "optimizer = tf.keras.optimizers.Adam()\r\n",
        "loss_object = tf.keras.losses.SparseCategoricalCrossentropy(\r\n",
        "    from_logits=True, reduction='none')\r\n",
        "\r\n",
        "def loss_function(real, pred):\r\n",
        "    mask = tf.math.logical_not(tf.math.equal(real, 0))\r\n",
        "    loss_ = loss_object(real, pred)\r\n",
        "\r\n",
        "    mask = tf.cast(mask, dtype=loss_.dtype)\r\n",
        "    loss_ *= mask\r\n",
        "\r\n",
        "    return tf.reduce_mean(loss_)"
      ],
      "execution_count": 43,
      "outputs": []
    },
    {
      "cell_type": "code",
      "metadata": {
        "id": "DAXRMhNVuqhL"
      },
      "source": [
        "checkpoint_dir = './training_nmt_checkpoints'\r\n",
        "\r\n",
        "checkpoint_prefix = os.path.join(checkpoint_dir, \"ckpt\")\r\n",
        "\r\n",
        "checkpoint = tf.train.Checkpoint(optimizer=optimizer,\r\n",
        "                                 encoder=encoder,\r\n",
        "                                 decoder=decoder)"
      ],
      "execution_count": 44,
      "outputs": []
    },
    {
      "cell_type": "code",
      "metadata": {
        "id": "N5YTbLoPudcs"
      },
      "source": [
        "@tf.function\r\n",
        "def train_step(inp, targ, enc_hidden):\r\n",
        "    loss = 0\r\n",
        "\r\n",
        "    with tf.GradientTape() as tape:\r\n",
        "        enc_hidden = encoder(inp, enc_hidden)\r\n",
        "\r\n",
        "        dec_hidden = enc_hidden\r\n",
        "\r\n",
        "        dec_input = tf.expand_dims([targ_lang.word_index['<start>']] * BATCH_SIZE, 1)\r\n",
        "\r\n",
        "        # Teacher forcing - feeding the target as the next input\r\n",
        "        for t in range(1, targ.shape[1]):\r\n",
        "            # passing enc_output to the decoder\r\n",
        "            predictions, dec_hidden = decoder(dec_input, dec_hidden)\r\n",
        "\r\n",
        "            loss += loss_function(targ[:, t], predictions)\r\n",
        "\r\n",
        "            # using teacher forcing\r\n",
        "            dec_input = tf.expand_dims(targ[:, t], 1)\r\n",
        "\r\n",
        "    batch_loss = (loss / int(targ.shape[1]))\r\n",
        "\r\n",
        "    variables = encoder.trainable_variables + decoder.trainable_variables\r\n",
        "\r\n",
        "    gradients = tape.gradient(loss, variables)\r\n",
        "\r\n",
        "    optimizer.apply_gradients(zip(gradients, variables))\r\n",
        "\r\n",
        "    return batch_loss"
      ],
      "execution_count": 45,
      "outputs": []
    },
    {
      "cell_type": "code",
      "metadata": {
        "id": "xHeKT8eq0ZC6"
      },
      "source": [
        "EPOCHS = 50"
      ],
      "execution_count": 46,
      "outputs": []
    },
    {
      "cell_type": "code",
      "metadata": {
        "colab": {
          "base_uri": "https://localhost:8080/"
        },
        "id": "mAta787AuvFr",
        "outputId": "46003b75-a483-4316-880a-1044867f8de5"
      },
      "source": [
        "for epoch in range(EPOCHS):\r\n",
        "    start = time.time()\r\n",
        "\r\n",
        "    enc_hidden = encoder.initialize_hidden_state()\r\n",
        "    total_loss = 0\r\n",
        "\r\n",
        "    for (batch, (inp, targ)) in enumerate(dataset.take(steps_per_epoch)):\r\n",
        "        batch_loss = train_step(inp, targ, enc_hidden)\r\n",
        "        total_loss += batch_loss\r\n",
        "\r\n",
        "        if batch % 400 == 0:\r\n",
        "            print('Epoch {} Batch {} Loss {:.4f}'.format(epoch + 1,\r\n",
        "                                                         batch,\r\n",
        "                                                         batch_loss.numpy()))\r\n",
        "    # saving (checkpoint) the model every 5 epochs\r\n",
        "    if (epoch + 1) % 5 == 0:\r\n",
        "        checkpoint.save(file_prefix = checkpoint_prefix)\r\n",
        "\r\n",
        "    print('Time taken for 1 epoch {} sec\\n'.format(time.time() - start))"
      ],
      "execution_count": 47,
      "outputs": [
        {
          "output_type": "stream",
          "text": [
            "Epoch 1 Batch 0 Loss 4.7907\n",
            "Epoch 1 Batch 400 Loss 1.3812\n",
            "Epoch 1 Batch 800 Loss 1.1012\n",
            "Time taken for 1 epoch 150.28471422195435 sec\n",
            "\n",
            "Epoch 2 Batch 0 Loss 0.9883\n",
            "Epoch 2 Batch 400 Loss 0.7601\n",
            "Epoch 2 Batch 800 Loss 0.5647\n",
            "Time taken for 1 epoch 143.3729476928711 sec\n",
            "\n",
            "Epoch 3 Batch 0 Loss 0.4634\n",
            "Epoch 3 Batch 400 Loss 0.4273\n",
            "Epoch 3 Batch 800 Loss 0.3595\n",
            "Time taken for 1 epoch 142.84751772880554 sec\n",
            "\n",
            "Epoch 4 Batch 0 Loss 0.2153\n",
            "Epoch 4 Batch 400 Loss 0.1907\n",
            "Epoch 4 Batch 800 Loss 0.2305\n",
            "Time taken for 1 epoch 143.39959836006165 sec\n",
            "\n",
            "Epoch 5 Batch 0 Loss 0.1519\n",
            "Epoch 5 Batch 400 Loss 0.1336\n",
            "Epoch 5 Batch 800 Loss 0.1330\n",
            "Time taken for 1 epoch 144.8169014453888 sec\n",
            "\n",
            "Epoch 6 Batch 0 Loss 0.1142\n",
            "Epoch 6 Batch 400 Loss 0.0983\n",
            "Epoch 6 Batch 800 Loss 0.1222\n",
            "Time taken for 1 epoch 142.04903316497803 sec\n",
            "\n",
            "Epoch 7 Batch 0 Loss 0.0488\n",
            "Epoch 7 Batch 400 Loss 0.0860\n",
            "Epoch 7 Batch 800 Loss 0.0941\n",
            "Time taken for 1 epoch 142.81287217140198 sec\n",
            "\n",
            "Epoch 8 Batch 0 Loss 0.0654\n",
            "Epoch 8 Batch 400 Loss 0.0975\n",
            "Epoch 8 Batch 800 Loss 0.1381\n",
            "Time taken for 1 epoch 142.970938205719 sec\n",
            "\n",
            "Epoch 9 Batch 0 Loss 0.0692\n",
            "Epoch 9 Batch 400 Loss 0.0813\n",
            "Epoch 9 Batch 800 Loss 0.0981\n",
            "Time taken for 1 epoch 141.9565348625183 sec\n",
            "\n",
            "Epoch 10 Batch 0 Loss 0.0688\n",
            "Epoch 10 Batch 400 Loss 0.0697\n",
            "Epoch 10 Batch 800 Loss 0.1152\n",
            "Time taken for 1 epoch 143.51083612442017 sec\n",
            "\n",
            "Epoch 11 Batch 0 Loss 0.0731\n",
            "Epoch 11 Batch 400 Loss 0.0465\n",
            "Epoch 11 Batch 800 Loss 0.0987\n",
            "Time taken for 1 epoch 142.6073818206787 sec\n",
            "\n",
            "Epoch 12 Batch 0 Loss 0.0569\n",
            "Epoch 12 Batch 400 Loss 0.0744\n",
            "Epoch 12 Batch 800 Loss 0.0894\n",
            "Time taken for 1 epoch 143.87764978408813 sec\n",
            "\n",
            "Epoch 13 Batch 0 Loss 0.0534\n",
            "Epoch 13 Batch 400 Loss 0.0677\n",
            "Epoch 13 Batch 800 Loss 0.1237\n",
            "Time taken for 1 epoch 142.15667581558228 sec\n",
            "\n",
            "Epoch 14 Batch 0 Loss 0.0758\n",
            "Epoch 14 Batch 400 Loss 0.0742\n",
            "Epoch 14 Batch 800 Loss 0.0823\n",
            "Time taken for 1 epoch 141.0298192501068 sec\n",
            "\n",
            "Epoch 15 Batch 0 Loss 0.0670\n",
            "Epoch 15 Batch 400 Loss 0.0672\n",
            "Epoch 15 Batch 800 Loss 0.0603\n",
            "Time taken for 1 epoch 142.62070155143738 sec\n",
            "\n",
            "Epoch 16 Batch 0 Loss 0.0493\n",
            "Epoch 16 Batch 400 Loss 0.0616\n",
            "Epoch 16 Batch 800 Loss 0.0747\n",
            "Time taken for 1 epoch 142.30535244941711 sec\n",
            "\n",
            "Epoch 17 Batch 0 Loss 0.0564\n",
            "Epoch 17 Batch 400 Loss 0.0379\n",
            "Epoch 17 Batch 800 Loss 0.0620\n",
            "Time taken for 1 epoch 141.7462728023529 sec\n",
            "\n",
            "Epoch 18 Batch 0 Loss 0.0421\n",
            "Epoch 18 Batch 400 Loss 0.0373\n",
            "Epoch 18 Batch 800 Loss 0.0507\n",
            "Time taken for 1 epoch 142.70729851722717 sec\n",
            "\n",
            "Epoch 19 Batch 0 Loss 0.0289\n",
            "Epoch 19 Batch 400 Loss 0.0310\n",
            "Epoch 19 Batch 800 Loss 0.0292\n",
            "Time taken for 1 epoch 142.3080117702484 sec\n",
            "\n",
            "Epoch 20 Batch 0 Loss 0.0524\n",
            "Epoch 20 Batch 400 Loss 0.0717\n",
            "Epoch 20 Batch 800 Loss 0.0793\n",
            "Time taken for 1 epoch 142.3644199371338 sec\n",
            "\n",
            "Epoch 21 Batch 0 Loss 0.0907\n",
            "Epoch 21 Batch 400 Loss 0.0607\n",
            "Epoch 21 Batch 800 Loss 0.0962\n",
            "Time taken for 1 epoch 141.5263271331787 sec\n",
            "\n",
            "Epoch 22 Batch 0 Loss 0.0486\n",
            "Epoch 22 Batch 400 Loss 0.0497\n",
            "Epoch 22 Batch 800 Loss 0.0811\n",
            "Time taken for 1 epoch 141.49732041358948 sec\n",
            "\n",
            "Epoch 23 Batch 0 Loss 0.0658\n",
            "Epoch 23 Batch 400 Loss 0.0896\n",
            "Epoch 23 Batch 800 Loss 0.0941\n",
            "Time taken for 1 epoch 142.58866953849792 sec\n",
            "\n",
            "Epoch 24 Batch 0 Loss 0.0365\n",
            "Epoch 24 Batch 400 Loss 0.0359\n",
            "Epoch 24 Batch 800 Loss 0.0703\n",
            "Time taken for 1 epoch 142.80480861663818 sec\n",
            "\n",
            "Epoch 25 Batch 0 Loss 0.0238\n",
            "Epoch 25 Batch 400 Loss 0.0467\n",
            "Epoch 25 Batch 800 Loss 0.0594\n",
            "Time taken for 1 epoch 143.92537999153137 sec\n",
            "\n",
            "Epoch 26 Batch 0 Loss 0.0469\n",
            "Epoch 26 Batch 400 Loss 0.0530\n",
            "Epoch 26 Batch 800 Loss 0.0529\n",
            "Time taken for 1 epoch 141.68232464790344 sec\n",
            "\n",
            "Epoch 27 Batch 0 Loss 0.0573\n",
            "Epoch 27 Batch 400 Loss 0.0611\n",
            "Epoch 27 Batch 800 Loss 0.0514\n",
            "Time taken for 1 epoch 141.82591319084167 sec\n",
            "\n",
            "Epoch 28 Batch 0 Loss 0.0617\n",
            "Epoch 28 Batch 400 Loss 0.0481\n",
            "Epoch 28 Batch 800 Loss 0.0228\n",
            "Time taken for 1 epoch 141.74375581741333 sec\n",
            "\n",
            "Epoch 29 Batch 0 Loss 0.0408\n",
            "Epoch 29 Batch 400 Loss 0.0468\n",
            "Epoch 29 Batch 800 Loss 0.0731\n",
            "Time taken for 1 epoch 143.24415278434753 sec\n",
            "\n",
            "Epoch 30 Batch 0 Loss 0.0520\n",
            "Epoch 30 Batch 400 Loss 0.0442\n",
            "Epoch 30 Batch 800 Loss 0.0499\n",
            "Time taken for 1 epoch 142.84551763534546 sec\n",
            "\n",
            "Epoch 31 Batch 0 Loss 0.0392\n",
            "Epoch 31 Batch 400 Loss 0.0098\n",
            "Epoch 31 Batch 800 Loss 0.0549\n",
            "Time taken for 1 epoch 142.47193336486816 sec\n",
            "\n",
            "Epoch 32 Batch 0 Loss 0.0558\n",
            "Epoch 32 Batch 400 Loss 0.0639\n",
            "Epoch 32 Batch 800 Loss 0.0573\n",
            "Time taken for 1 epoch 143.32537603378296 sec\n",
            "\n",
            "Epoch 33 Batch 0 Loss 0.0739\n",
            "Epoch 33 Batch 400 Loss 0.0285\n",
            "Epoch 33 Batch 800 Loss 0.0290\n",
            "Time taken for 1 epoch 142.57225346565247 sec\n",
            "\n",
            "Epoch 34 Batch 0 Loss 0.0511\n",
            "Epoch 34 Batch 400 Loss 0.0790\n",
            "Epoch 34 Batch 800 Loss 0.0701\n",
            "Time taken for 1 epoch 143.3291630744934 sec\n",
            "\n",
            "Epoch 35 Batch 0 Loss 0.0546\n",
            "Epoch 35 Batch 400 Loss 0.0364\n",
            "Epoch 35 Batch 800 Loss 0.0622\n",
            "Time taken for 1 epoch 143.32805919647217 sec\n",
            "\n",
            "Epoch 36 Batch 0 Loss 0.0439\n",
            "Epoch 36 Batch 400 Loss 0.0342\n",
            "Epoch 36 Batch 800 Loss 0.0650\n",
            "Time taken for 1 epoch 143.2823920249939 sec\n",
            "\n",
            "Epoch 37 Batch 0 Loss 0.0390\n",
            "Epoch 37 Batch 400 Loss 0.0161\n",
            "Epoch 37 Batch 800 Loss 0.0608\n",
            "Time taken for 1 epoch 143.35339522361755 sec\n",
            "\n",
            "Epoch 38 Batch 0 Loss 0.0496\n",
            "Epoch 38 Batch 400 Loss 0.0536\n",
            "Epoch 38 Batch 800 Loss 0.0483\n",
            "Time taken for 1 epoch 143.39092469215393 sec\n",
            "\n",
            "Epoch 39 Batch 0 Loss 0.0284\n",
            "Epoch 39 Batch 400 Loss 0.0342\n",
            "Epoch 39 Batch 800 Loss 0.0464\n",
            "Time taken for 1 epoch 142.47225761413574 sec\n",
            "\n",
            "Epoch 40 Batch 0 Loss 0.0181\n",
            "Epoch 40 Batch 400 Loss 0.0334\n",
            "Epoch 40 Batch 800 Loss 0.0276\n",
            "Time taken for 1 epoch 144.43283653259277 sec\n",
            "\n",
            "Epoch 41 Batch 0 Loss 0.0310\n",
            "Epoch 41 Batch 400 Loss 0.0328\n",
            "Epoch 41 Batch 800 Loss 0.0302\n",
            "Time taken for 1 epoch 143.2767584323883 sec\n",
            "\n",
            "Epoch 42 Batch 0 Loss 0.0263\n",
            "Epoch 42 Batch 400 Loss 0.0300\n",
            "Epoch 42 Batch 800 Loss 0.0705\n",
            "Time taken for 1 epoch 142.83176970481873 sec\n",
            "\n",
            "Epoch 43 Batch 0 Loss 0.0444\n",
            "Epoch 43 Batch 400 Loss 0.0334\n",
            "Epoch 43 Batch 800 Loss 0.0603\n",
            "Time taken for 1 epoch 142.67801070213318 sec\n",
            "\n",
            "Epoch 44 Batch 0 Loss 0.0315\n",
            "Epoch 44 Batch 400 Loss 0.0495\n",
            "Epoch 44 Batch 800 Loss 0.0651\n",
            "Time taken for 1 epoch 141.9658224582672 sec\n",
            "\n",
            "Epoch 45 Batch 0 Loss 0.0286\n",
            "Epoch 45 Batch 400 Loss 0.0462\n",
            "Epoch 45 Batch 800 Loss 0.0333\n",
            "Time taken for 1 epoch 143.42184376716614 sec\n",
            "\n",
            "Epoch 46 Batch 0 Loss 0.0188\n",
            "Epoch 46 Batch 400 Loss 0.0711\n",
            "Epoch 46 Batch 800 Loss 0.0681\n",
            "Time taken for 1 epoch 143.12767100334167 sec\n",
            "\n",
            "Epoch 47 Batch 0 Loss 0.0323\n",
            "Epoch 47 Batch 400 Loss 0.0493\n",
            "Epoch 47 Batch 800 Loss 0.0521\n",
            "Time taken for 1 epoch 143.3165581226349 sec\n",
            "\n",
            "Epoch 48 Batch 0 Loss 0.0199\n",
            "Epoch 48 Batch 400 Loss 0.0637\n",
            "Epoch 48 Batch 800 Loss 0.0370\n",
            "Time taken for 1 epoch 142.1794786453247 sec\n",
            "\n",
            "Epoch 49 Batch 0 Loss 0.0546\n",
            "Epoch 49 Batch 400 Loss 0.0533\n",
            "Epoch 49 Batch 800 Loss 0.0743\n",
            "Time taken for 1 epoch 142.27035975456238 sec\n",
            "\n",
            "Epoch 50 Batch 0 Loss 0.0408\n",
            "Epoch 50 Batch 400 Loss 0.0619\n",
            "Epoch 50 Batch 800 Loss 0.0517\n",
            "Time taken for 1 epoch 142.61041975021362 sec\n",
            "\n"
          ],
          "name": "stdout"
        }
      ]
    },
    {
      "cell_type": "code",
      "metadata": {
        "id": "p4PBQofBvSXy"
      },
      "source": [
        "def evaluate(sentence):\r\n",
        "    attention_plot = np.zeros((max_length_targ, max_length_inp))\r\n",
        "\r\n",
        "    sentence = preprocess_sentence(sentence)\r\n",
        "\r\n",
        "    inputs = [inp_lang.word_index[i] for i in sentence.split(' ')]\r\n",
        "    inputs = tf.keras.preprocessing.sequence.pad_sequences([inputs],\r\n",
        "                                                          maxlen=max_length_inp,\r\n",
        "                                                          padding='post')\r\n",
        "    inputs = tf.convert_to_tensor(inputs)\r\n",
        "\r\n",
        "    result = ''\r\n",
        "\r\n",
        "    hidden = [tf.zeros((1, units))]\r\n",
        "    enc_hidden = encoder(inputs, hidden)\r\n",
        "\r\n",
        "    dec_hidden = enc_hidden\r\n",
        "    dec_input = tf.expand_dims([targ_lang.word_index['<start>']], 0)\r\n",
        "\r\n",
        "    for t in range(max_length_targ):\r\n",
        "        predictions, dec_hidden = decoder(dec_input, dec_hidden)\r\n",
        "\r\n",
        "        # storing the attention weights to plot later on\r\n",
        "        predicted_id = tf.argmax(predictions[0]).numpy()\r\n",
        "        result += targ_lang.index_word[predicted_id] + ' '\r\n",
        "\r\n",
        "        if targ_lang.index_word[predicted_id] == '<end>':\r\n",
        "            return result, sentence\r\n",
        "\r\n",
        "        # the predicted ID is fed back into the model\r\n",
        "        dec_input = tf.expand_dims([predicted_id], 0)\r\n",
        "\r\n",
        "    return result, sentence"
      ],
      "execution_count": 48,
      "outputs": []
    },
    {
      "cell_type": "code",
      "metadata": {
        "id": "JI7GjIqivUc9"
      },
      "source": [
        "def translate(sentence):\r\n",
        "    result, sentence = evaluate(sentence)\r\n",
        "\r\n",
        "    print('Input: %s' % (sentence))\r\n",
        "    print('Predicted translation: {}'.format(result))"
      ],
      "execution_count": 49,
      "outputs": []
    },
    {
      "cell_type": "code",
      "metadata": {
        "id": "R5-xUfirvZHw"
      },
      "source": [
        "checkpoint.restore(tf.train.latest_checkpoint(checkpoint_dir));"
      ],
      "execution_count": 50,
      "outputs": []
    },
    {
      "cell_type": "code",
      "metadata": {
        "colab": {
          "base_uri": "https://localhost:8080/"
        },
        "id": "CQxbxC6_vaF1",
        "outputId": "3829ab1a-8d40-44e1-d297-a619f4f1ff74"
      },
      "source": [
        "translate('Здесь хорошо.')"
      ],
      "execution_count": 51,
      "outputs": [
        {
          "output_type": "stream",
          "text": [
            "Input: <start> здесь хорошо . <end>\n",
            "Predicted translation: it's fine here . <end> \n"
          ],
          "name": "stdout"
        }
      ]
    },
    {
      "cell_type": "code",
      "metadata": {
        "colab": {
          "base_uri": "https://localhost:8080/"
        },
        "id": "i7FRTjrgv6LC",
        "outputId": "3981d13d-0e5e-4a8d-ee13-f317eaa912c0"
      },
      "source": [
        "translate('Я не смогу поехать.')"
      ],
      "execution_count": 52,
      "outputs": [
        {
          "output_type": "stream",
          "text": [
            "Input: <start> я не смогу поехать . <end>\n",
            "Predicted translation: i can't go . <end> \n"
          ],
          "name": "stdout"
        }
      ]
    },
    {
      "cell_type": "code",
      "metadata": {
        "colab": {
          "base_uri": "https://localhost:8080/"
        },
        "id": "GDdiW42uv87R",
        "outputId": "383c9be1-0090-472d-f4f5-140fdd089289"
      },
      "source": [
        "translate(u'Вы еще дома?')"
      ],
      "execution_count": 53,
      "outputs": [
        {
          "output_type": "stream",
          "text": [
            "Input: <start> вы еще дома ? <end>\n",
            "Predicted translation: are you still home ? <end> \n"
          ],
          "name": "stdout"
        }
      ]
    },
    {
      "cell_type": "code",
      "metadata": {
        "colab": {
          "base_uri": "https://localhost:8080/"
        },
        "id": "3ny3s2Eyv-aA",
        "outputId": "5631b5ba-c484-46a9-8769-8353f7d24693"
      },
      "source": [
        "translate(u'Вы все еще дома?')"
      ],
      "execution_count": 54,
      "outputs": [
        {
          "output_type": "stream",
          "text": [
            "Input: <start> вы все еще дома ? <end>\n",
            "Predicted translation: are you still at home ? <end> \n"
          ],
          "name": "stdout"
        }
      ]
    },
    {
      "cell_type": "code",
      "metadata": {
        "colab": {
          "base_uri": "https://localhost:8080/"
        },
        "id": "50mmvVWGv-c-",
        "outputId": "067d6aea-10ff-4991-d60f-7c526354f323"
      },
      "source": [
        "translate(u'Попробуй сделать это.')"
      ],
      "execution_count": 55,
      "outputs": [
        {
          "output_type": "stream",
          "text": [
            "Input: <start> попробуй сделать это . <end>\n",
            "Predicted translation: try to do this . <end> \n"
          ],
          "name": "stdout"
        }
      ]
    },
    {
      "cell_type": "code",
      "metadata": {
        "colab": {
          "base_uri": "https://localhost:8080/"
        },
        "id": "Ab663-bdv-fM",
        "outputId": "0331c201-5314-4f62-e76d-a75e1cda172f"
      },
      "source": [
        "translate(u'Я люблю, когда идет снег.')"
      ],
      "execution_count": 56,
      "outputs": [
        {
          "output_type": "stream",
          "text": [
            "Input: <start> я люблю , когда идет снег . <end>\n",
            "Predicted translation: i like snow if a snow . <end> \n"
          ],
          "name": "stdout"
        }
      ]
    },
    {
      "cell_type": "code",
      "metadata": {
        "colab": {
          "base_uri": "https://localhost:8080/"
        },
        "id": "3TaqPOLbv-hl",
        "outputId": "078d174a-9b00-4f81-f512-17943c0d449c"
      },
      "source": [
        "translate(u'Я никогда такого не делаю.')"
      ],
      "execution_count": 57,
      "outputs": [
        {
          "output_type": "stream",
          "text": [
            "Input: <start> я никогда такого не делаю . <end>\n",
            "Predicted translation: i never do that . <end> \n"
          ],
          "name": "stdout"
        }
      ]
    }
  ]
}